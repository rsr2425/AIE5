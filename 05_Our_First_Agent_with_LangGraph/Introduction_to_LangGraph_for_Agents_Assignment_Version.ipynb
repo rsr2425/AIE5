{
  "cells": [
    {
      "cell_type": "markdown",
      "metadata": {
        "id": "gJXW_DgiSebM"
      },
      "source": [
        "# LangGraph and LangSmith - Agentic RAG Powered by LangChain\n",
        "\n",
        "In the following notebook we'll complete the following tasks:\n",
        "\n",
        "- 🤝 Breakout Room #1:\n",
        "  1. Install required libraries\n",
        "  2. Set Environment Variables\n",
        "  3. Creating our Tool Belt\n",
        "  4. Creating Our State\n",
        "  5. Creating and Compiling A Graph!\n",
        "\n",
        "  - 🤝 Breakout Room #2:\n",
        "  1. Evaluating the LangGraph Application with LangSmith\n",
        "  2. Adding Helpfulness Check and \"Loop\" Limits\n",
        "  3. LangGraph for the \"Patterns\" of GenAI"
      ]
    },
    {
      "cell_type": "markdown",
      "metadata": {
        "id": "djQ3nRAgoF67"
      },
      "source": [
        "# 🤝 Breakout Room #1"
      ]
    },
    {
      "cell_type": "markdown",
      "metadata": {
        "id": "e7pQDUhUnIo8"
      },
      "source": [
        "## Part 1: LangGraph - Building Cyclic Applications with LangChain\n",
        "\n",
        "LangGraph is a tool that leverages LangChain Expression Language to build coordinated multi-actor and stateful applications that includes cyclic behaviour.\n",
        "\n",
        "### Why Cycles?\n",
        "\n",
        "In essence, we can think of a cycle in our graph as a more robust and customizable loop. It allows us to keep our application agent-forward while still giving the powerful functionality of traditional loops.\n",
        "\n",
        "Due to the inclusion of cycles over loops, we can also compose rather complex flows through our graph in a much more readable and natural fashion. Effectively allowing us to recreate application flowcharts in code in an almost 1-to-1 fashion.\n",
        "\n",
        "### Why LangGraph?\n",
        "\n",
        "Beyond the agent-forward approach - we can easily compose and combine traditional \"DAG\" (directed acyclic graph) chains with powerful cyclic behaviour due to the tight integration with LCEL. This means it's a natural extension to LangChain's core offerings!"
      ]
    },
    {
      "cell_type": "markdown",
      "metadata": {
        "id": "3_fLDElOVoop"
      },
      "source": [
        "## Task 1:  Dependencies\n",
        "\n",
        "We'll first install all our required libraries.\n",
        "\n",
        "> NOTE: If you're running this locally - please skip this step."
      ]
    },
    {
      "cell_type": "code",
      "execution_count": 1,
      "metadata": {
        "colab": {
          "base_uri": "https://localhost:8080/"
        },
        "id": "KaVwN269EttM",
        "outputId": "ba50f775-3957-4d88-9a88-43acc6966dda"
      },
      "outputs": [],
      "source": [
        "!pip install -qU langchain langchain_openai langchain-community langgraph arxiv"
      ]
    },
    {
      "cell_type": "markdown",
      "metadata": {
        "id": "wujPjGJuoPwg"
      },
      "source": [
        "## Task 2: Environment Variables\n",
        "\n",
        "We'll want to set both our OpenAI API key and our LangSmith environment variables."
      ]
    },
    {
      "cell_type": "code",
      "execution_count": 2,
      "metadata": {
        "colab": {
          "base_uri": "https://localhost:8080/"
        },
        "id": "Jdh8CoVWHRvs",
        "outputId": "3fa78560-393c-4ee5-b871-9886bf0d70f4"
      },
      "outputs": [],
      "source": [
        "import os\n",
        "import getpass\n",
        "\n",
        "os.environ[\"OPENAI_API_KEY\"] = getpass.getpass(\"OpenAI API Key:\")"
      ]
    },
    {
      "cell_type": "markdown",
      "metadata": {
        "id": "BLmneW40276B"
      },
      "source": []
    },
    {
      "cell_type": "code",
      "execution_count": 3,
      "metadata": {
        "colab": {
          "base_uri": "https://localhost:8080/"
        },
        "id": "Jkla2fpx28QK",
        "outputId": "52d7ad22-fcb1-4abe-853b-216c55a12650"
      },
      "outputs": [],
      "source": [
        "os.environ[\"TAVILY_API_KEY\"] = getpass.getpass(\"TAVILY_API_KEY\")"
      ]
    },
    {
      "cell_type": "code",
      "execution_count": 4,
      "metadata": {
        "colab": {
          "base_uri": "https://localhost:8080/"
        },
        "id": "Nv0glIDyHmRt",
        "outputId": "b69df90a-b4e1-4ddb-9de0-882d98b68ab2"
      },
      "outputs": [],
      "source": [
        "from uuid import uuid4\n",
        "\n",
        "os.environ[\"LANGCHAIN_TRACING_V2\"] = \"true\"\n",
        "os.environ[\"LANGCHAIN_PROJECT\"] = f\"AIE5 - LangGraph - {uuid4().hex[0:8]}\"\n",
        "os.environ[\"LANGCHAIN_API_KEY\"] = getpass.getpass(\"LangSmith API Key: \")"
      ]
    },
    {
      "cell_type": "markdown",
      "metadata": {
        "id": "sBRyQmEAVzua"
      },
      "source": [
        "## Task 3: Creating our Tool Belt\n",
        "\n",
        "As is usually the case, we'll want to equip our agent with a toolbelt to help answer questions and add external knowledge.\n",
        "\n",
        "There's a tonne of tools in the [LangChain Community Repo](https://github.com/langchain-ai/langchain/tree/master/libs/community/langchain_community/tools) but we'll stick to a couple just so we can observe the cyclic nature of LangGraph in action!\n",
        "\n",
        "We'll leverage:\n",
        "\n",
        "- [Tavily Search Results](https://github.com/langchain-ai/langchain/blob/master/libs/community/langchain_community/tools/tavily_search/tool.py)\n",
        "- [Arxiv](https://github.com/langchain-ai/langchain/tree/master/libs/community/langchain_community/tools/arxiv)"
      ]
    },
    {
      "cell_type": "markdown",
      "metadata": {
        "id": "2k6n_Dob2F46"
      },
      "source": [
        "#### 🏗️ Activity #1:\n",
        "\n",
        "Please add the tools to use into our toolbelt.\n",
        "\n",
        "> NOTE: Each tool in our toolbelt should be a method."
      ]
    },
    {
      "cell_type": "code",
      "execution_count": 5,
      "metadata": {
        "id": "lAxaSvlfIeOg"
      },
      "outputs": [],
      "source": [
        "from langchain_community.tools.tavily_search import TavilySearchResults\n",
        "from langchain_community.tools.arxiv.tool import ArxivQueryRun\n",
        "\n",
        "tavily_tool = TavilySearchResults(max_results=5)\n",
        "\n",
        "tool_belt = [\n",
        "    tavily_tool,\n",
        "    ArxivQueryRun(),\n",
        "]"
      ]
    },
    {
      "cell_type": "markdown",
      "metadata": {
        "id": "VI-C669ZYVI5"
      },
      "source": [
        "### Model\n",
        "\n",
        "Now we can set-up our model! We'll leverage the familiar OpenAI model suite for this example - but it's not *necessary* to use with LangGraph. LangGraph supports all models - though you might not find success with smaller models - as such, they recommend you stick with:\n",
        "\n",
        "- OpenAI's GPT-3.5 and GPT-4\n",
        "- Anthropic's Claude\n",
        "- Google's Gemini\n",
        "\n",
        "> NOTE: Because we're leveraging the OpenAI function calling API - we'll need to use OpenAI *for this specific example* (or any other service that exposes an OpenAI-style function calling API."
      ]
    },
    {
      "cell_type": "code",
      "execution_count": 6,
      "metadata": {
        "id": "QkNS8rNZJs4z"
      },
      "outputs": [],
      "source": [
        "from langchain_openai import ChatOpenAI\n",
        "\n",
        "model = ChatOpenAI(model=\"gpt-4o\", temperature=0)"
      ]
    },
    {
      "cell_type": "markdown",
      "metadata": {
        "id": "Ugkj3GzuZpQv"
      },
      "source": [
        "Now that we have our model set-up, let's \"put on the tool belt\", which is to say: We'll bind our LangChain formatted tools to the model in an OpenAI function calling format."
      ]
    },
    {
      "cell_type": "code",
      "execution_count": 7,
      "metadata": {
        "id": "4OdMqFafZ_0V"
      },
      "outputs": [],
      "source": [
        "model = model.bind_tools(tool_belt)"
      ]
    },
    {
      "cell_type": "markdown",
      "metadata": {
        "id": "ERzuGo6W18Lr"
      },
      "source": [
        "#### ❓ Question #1:\n",
        "\n",
        "How does the model determine which tool to use?\n",
        "\n",
        "#### 📝 Answer #1:\n",
        "When the model is invoked with function calling, it passes two types of information to the model endpoint:\n",
        "\n",
        "1. The messages in the conversation\n",
        "2. Tools that you want to make available to the model\n",
        "\n",
        "Encoded in those tool objects are descriptions of the tool, the arguments it can take, and the format of the response.\n",
        "\n",
        "The model then takes all of this information and selects which/if a tool should be invoked, as well as what arguments to pass to the tool.\n",
        "\n"
      ]
    },
    {
      "cell_type": "markdown",
      "metadata": {
        "id": "_296Ub96Z_H8"
      },
      "source": [
        "## Task 4: Putting the State in Stateful\n",
        "\n",
        "Earlier we used this phrasing:\n",
        "\n",
        "`coordinated multi-actor and stateful applications`\n",
        "\n",
        "So what does that \"stateful\" mean?\n",
        "\n",
        "To put it simply - we want to have some kind of object which we can pass around our application that holds information about what the current situation (state) is. Since our system will be constructed of many parts moving in a coordinated fashion - we want to be able to ensure we have some commonly understood idea of that state.\n",
        "\n",
        "LangGraph leverages a `StatefulGraph` which uses an `AgentState` object to pass information between the various nodes of the graph.\n",
        "\n",
        "There are more options than what we'll see below - but this `AgentState` object is one that is stored in a `TypedDict` with the key `messages` and the value is a `Sequence` of `BaseMessages` that will be appended to whenever the state changes.\n",
        "\n",
        "Let's think about a simple example to help understand exactly what this means (we'll simplify a great deal to try and clearly communicate what state is doing):\n",
        "\n",
        "1. We initialize our state object:\n",
        "  - `{\"messages\" : []}`\n",
        "2. Our user submits a query to our application.\n",
        "  - New State: `HumanMessage(#1)`\n",
        "  - `{\"messages\" : [HumanMessage(#1)}`\n",
        "3. We pass our state object to an Agent node which is able to read the current state. It will use the last `HumanMessage` as input. It gets some kind of output which it will add to the state.\n",
        "  - New State: `AgentMessage(#1, additional_kwargs {\"function_call\" : \"WebSearchTool\"})`\n",
        "  - `{\"messages\" : [HumanMessage(#1), AgentMessage(#1, ...)]}`\n",
        "4. We pass our state object to a \"conditional node\" (more on this later) which reads the last state to determine if we need to use a tool - which it can determine properly because of our provided object!"
      ]
    },
    {
      "cell_type": "code",
      "execution_count": 8,
      "metadata": {
        "id": "mxL9b_NZKUdL"
      },
      "outputs": [],
      "source": [
        "from typing import TypedDict, Annotated\n",
        "from langgraph.graph.message import add_messages\n",
        "import operator\n",
        "from langchain_core.messages import BaseMessage\n",
        "\n",
        "class AgentState(TypedDict):\n",
        "  messages: Annotated[list, add_messages]"
      ]
    },
    {
      "cell_type": "markdown",
      "metadata": {
        "id": "vWsMhfO9grLu"
      },
      "source": [
        "## Task 5: It's Graphing Time!\n",
        "\n",
        "Now that we have state, and we have tools, and we have an LLM - we can finally start making our graph!\n",
        "\n",
        "Let's take a second to refresh ourselves about what a graph is in this context.\n",
        "\n",
        "Graphs, also called networks in some circles, are a collection of connected objects.\n",
        "\n",
        "The objects in question are typically called nodes, or vertices, and the connections are called edges.\n",
        "\n",
        "Let's look at a simple graph.\n",
        "\n",
        "![image](https://i.imgur.com/2NFLnIc.png)\n",
        "\n",
        "Here, we're using the coloured circles to represent the nodes and the yellow lines to represent the edges. In this case, we're looking at a fully connected graph - where each node is connected by an edge to each other node.\n",
        "\n",
        "If we were to think about nodes in the context of LangGraph - we would think of a function, or an LCEL runnable.\n",
        "\n",
        "If we were to think about edges in the context of LangGraph - we might think of them as \"paths to take\" or \"where to pass our state object next\".\n",
        "\n",
        "Let's create some nodes and expand on our diagram.\n",
        "\n",
        "> NOTE: Due to the tight integration with LCEL - we can comfortably create our nodes in an async fashion!"
      ]
    },
    {
      "cell_type": "code",
      "execution_count": 9,
      "metadata": {
        "id": "91flJWtZLUrl"
      },
      "outputs": [],
      "source": [
        "from langgraph.prebuilt import ToolNode\n",
        "\n",
        "def call_model(state):\n",
        "  messages = state[\"messages\"]\n",
        "  response = model.invoke(messages)\n",
        "  return {\"messages\" : [response]}\n",
        "\n",
        "tool_node = ToolNode(tool_belt)"
      ]
    },
    {
      "cell_type": "markdown",
      "metadata": {
        "id": "2bwR7MgWj3Wg"
      },
      "source": [
        "Now we have two total nodes. We have:\n",
        "\n",
        "- `call_model` is a node that will...well...call the model\n",
        "- `tool_node` is a node which can call a tool\n",
        "\n",
        "Let's start adding nodes! We'll update our diagram along the way to keep track of what this looks like!\n"
      ]
    },
    {
      "cell_type": "code",
      "execution_count": 10,
      "metadata": {
        "colab": {
          "base_uri": "https://localhost:8080/"
        },
        "id": "_vF4_lgtmQNo",
        "outputId": "a4384377-8f7a-415f-be1b-fee6169cb101"
      },
      "outputs": [
        {
          "data": {
            "text/plain": [
              "<langgraph.graph.state.StateGraph at 0x117fa30e0>"
            ]
          },
          "execution_count": 10,
          "metadata": {},
          "output_type": "execute_result"
        }
      ],
      "source": [
        "from langgraph.graph import StateGraph, END\n",
        "\n",
        "uncompiled_graph = StateGraph(AgentState)\n",
        "\n",
        "uncompiled_graph.add_node(\"agent\", call_model)\n",
        "uncompiled_graph.add_node(\"action\", tool_node)"
      ]
    },
    {
      "cell_type": "markdown",
      "metadata": {
        "id": "b8CjRlbVmRpW"
      },
      "source": [
        "Let's look at what we have so far:\n",
        "\n",
        "![image](https://i.imgur.com/md7inqG.png)"
      ]
    },
    {
      "cell_type": "markdown",
      "metadata": {
        "id": "uaXHpPeSnOWC"
      },
      "source": [
        "Next, we'll add our entrypoint. All our entrypoint does is indicate which node is called first."
      ]
    },
    {
      "cell_type": "code",
      "execution_count": 11,
      "metadata": {
        "colab": {
          "base_uri": "https://localhost:8080/"
        },
        "id": "YGCbaYqRnmiw",
        "outputId": "5351807c-2ac7-4316-a3a3-878abeacd114"
      },
      "outputs": [
        {
          "data": {
            "text/plain": [
              "<langgraph.graph.state.StateGraph at 0x117fa30e0>"
            ]
          },
          "execution_count": 11,
          "metadata": {},
          "output_type": "execute_result"
        }
      ],
      "source": [
        "uncompiled_graph.set_entry_point(\"agent\")"
      ]
    },
    {
      "cell_type": "markdown",
      "metadata": {
        "id": "BUsfGoSpoF9U"
      },
      "source": [
        "![image](https://i.imgur.com/wNixpJe.png)"
      ]
    },
    {
      "cell_type": "markdown",
      "metadata": {
        "id": "0Q_pQgHmoW0M"
      },
      "source": [
        "Now we want to build a \"conditional edge\" which will use the output state of a node to determine which path to follow.\n",
        "\n",
        "We can help conceptualize this by thinking of our conditional edge as a conditional in a flowchart!\n",
        "\n",
        "Notice how our function simply checks if there is a \"function_call\" kwarg present.\n",
        "\n",
        "Then we create an edge where the origin node is our agent node and our destination node is *either* the action node or the END (finish the graph).\n",
        "\n",
        "It's important to highlight that the dictionary passed in as the third parameter (the mapping) should be created with the possible outputs of our conditional function in mind. In this case `should_continue` outputs either `\"end\"` or `\"continue\"` which are subsequently mapped to the action node or the END node."
      ]
    },
    {
      "cell_type": "code",
      "execution_count": 12,
      "metadata": {
        "colab": {
          "base_uri": "https://localhost:8080/"
        },
        "id": "1BZgb81VQf9o",
        "outputId": "73a07c15-5f0b-40f2-b033-38b57d056dd8"
      },
      "outputs": [
        {
          "data": {
            "text/plain": [
              "<langgraph.graph.state.StateGraph at 0x117fa30e0>"
            ]
          },
          "execution_count": 12,
          "metadata": {},
          "output_type": "execute_result"
        }
      ],
      "source": [
        "def should_continue(state):\n",
        "  last_message = state[\"messages\"][-1]\n",
        "\n",
        "  if last_message.tool_calls:\n",
        "    return \"action\"\n",
        "\n",
        "  return END\n",
        "\n",
        "uncompiled_graph.add_conditional_edges(\n",
        "    \"agent\",\n",
        "    should_continue\n",
        ")"
      ]
    },
    {
      "cell_type": "markdown",
      "metadata": {
        "id": "-Cvhcf4jp0Ce"
      },
      "source": [
        "Let's visualize what this looks like.\n",
        "\n",
        "![image](https://i.imgur.com/8ZNwKI5.png)"
      ]
    },
    {
      "cell_type": "markdown",
      "metadata": {
        "id": "yKCjWJCkrJb9"
      },
      "source": [
        "Finally, we can add our last edge which will connect our action node to our agent node. This is because we *always* want our action node (which is used to call our tools) to return its output to our agent!"
      ]
    },
    {
      "cell_type": "code",
      "execution_count": 13,
      "metadata": {
        "colab": {
          "base_uri": "https://localhost:8080/"
        },
        "id": "UvcgbHf1rIXZ",
        "outputId": "45d4bdd6-d6bb-4a1d-bb79-cad43c130bf2"
      },
      "outputs": [
        {
          "data": {
            "text/plain": [
              "<langgraph.graph.state.StateGraph at 0x117fa30e0>"
            ]
          },
          "execution_count": 13,
          "metadata": {},
          "output_type": "execute_result"
        }
      ],
      "source": [
        "uncompiled_graph.add_edge(\"action\", \"agent\")"
      ]
    },
    {
      "cell_type": "markdown",
      "metadata": {
        "id": "EiWDwBQtrw7Z"
      },
      "source": [
        "Let's look at the final visualization.\n",
        "\n",
        "![image](https://i.imgur.com/NWO7usO.png)"
      ]
    },
    {
      "cell_type": "markdown",
      "metadata": {
        "id": "KYqDpErlsCsu"
      },
      "source": [
        "All that's left to do now is to compile our workflow - and we're off!"
      ]
    },
    {
      "cell_type": "code",
      "execution_count": 14,
      "metadata": {
        "id": "zt9-KS8DpzNx"
      },
      "outputs": [],
      "source": [
        "compiled_graph = uncompiled_graph.compile()"
      ]
    },
    {
      "cell_type": "markdown",
      "metadata": {
        "id": "xhNWIwBL1W4Q"
      },
      "source": [
        "#### ❓ Question #2:\n",
        "\n",
        "Is there any specific limit to how many times we can cycle?\n",
        "\n",
        "If not, how could we impose a limit to the number of cycles?\n",
        "\n",
        "#### 📝 Answer #2:\n",
        "Yes, there is a limit to how many times we can cycle. If you cycle too many times, you'll receive a `GraphRecursionError` error. By default, the recursion limit is set to 25. You can change this by passing an extra parameter, e.g. `graph.invoke(inputs, config={\"recursion_limit\": 5, \"configurable\":{\"llm\": \"anthropic\"}})`. [source](https://langchain-ai.github.io/langgraph/concepts/low_level/#recursion-limit)"
      ]
    },
    {
      "cell_type": "markdown",
      "metadata": {
        "id": "VEYcTShCsPaa"
      },
      "source": [
        "## Using Our Graph\n",
        "\n",
        "Now that we've created and compiled our graph - we can call it *just as we'd call any other* `Runnable`!\n",
        "\n",
        "Let's try out a few examples to see how it fairs:"
      ]
    },
    {
      "cell_type": "code",
      "execution_count": 15,
      "metadata": {
        "colab": {
          "base_uri": "https://localhost:8080/"
        },
        "id": "Qn4n37PQRPII",
        "outputId": "5eeedfae-089d-496e-e71f-071939fa5832"
      },
      "outputs": [
        {
          "name": "stdout",
          "output_type": "stream",
          "text": [
            "Receiving update from node: 'agent'\n",
            "[AIMessage(content='', additional_kwargs={'tool_calls': [{'id': 'call_2AdAlza8xELQ49FnNeSDKyMQ', 'function': {'arguments': '{\"query\":\"current captain of the Winnipeg Jets 2023\"}', 'name': 'tavily_search_results_json'}, 'type': 'function'}], 'refusal': None}, response_metadata={'token_usage': {'completion_tokens': 27, 'prompt_tokens': 162, 'total_tokens': 189, 'completion_tokens_details': {'accepted_prediction_tokens': 0, 'audio_tokens': 0, 'reasoning_tokens': 0, 'rejected_prediction_tokens': 0}, 'prompt_tokens_details': {'audio_tokens': 0, 'cached_tokens': 0}}, 'model_name': 'gpt-4o-2024-08-06', 'system_fingerprint': 'fp_4691090a87', 'finish_reason': 'tool_calls', 'logprobs': None}, id='run-cb727319-16b7-4df0-8737-2bbabfd0be6e-0', tool_calls=[{'name': 'tavily_search_results_json', 'args': {'query': 'current captain of the Winnipeg Jets 2023'}, 'id': 'call_2AdAlza8xELQ49FnNeSDKyMQ', 'type': 'tool_call'}], usage_metadata={'input_tokens': 162, 'output_tokens': 27, 'total_tokens': 189, 'input_token_details': {'audio': 0, 'cache_read': 0}, 'output_token_details': {'audio': 0, 'reasoning': 0}})]\n",
            "\n",
            "\n",
            "\n",
            "Receiving update from node: 'action'\n",
            "[ToolMessage(content='[{\"url\": \"https://www.nytimes.com/athletic/4855976/2023/09/12/adam-lowry-jets-captain/\", \"content\": \"Jets name Adam Lowry as captain ahead of 2023-24 season: Why Winnipeg chose him - The Athletic Jets name Adam Lowry as captain ahead of 2023-24 season: Why Winnipeg chose him The team gave forward Adam Lowry the honor Tuesday, making him the third captain in franchise history since the Jets moved from Atlanta. Lowry did exactly that, stitched an “A” on his sweater for the first time in 2022-23, and is now captain of the Winnipeg Jets. Morrissey would have been a worthy choice as captain and is more of an impact player at his position than Lowry is. Lowry served as an assistant captain for the first time last season with Morrissey and Scheifele.\"}, {\"url\": \"https://en.wikipedia.org/wiki/Adam_Lowry\", \"content\": \"Entering the 2023–24 season, Lowry was named captain of the Jets on September 12, 2023. He became the third in the team\\'s history since relocating to Winnipeg,\"}, {\"url\": \"https://www.hockey-reference.com/teams/WPG/2024.html\", \"content\": \"Captain: Adam Lowry. Primary Arena: Canada Life Centre. Goals For ... Current Summary/Standings, Current Schedule/Results, Current Leaders, Current Stats.\"}, {\"url\": \"https://en.wikipedia.org/wiki/2023%E2%80%9324_Winnipeg_Jets_season\", \"content\": \"Captain · Adam Lowry · Alternate captains · Josh Morrissey · Mark Scheifele ... ^ \\\\\"New York Rangers - Winnipeg Jets - October 30, 2023\\\\\". NHL.com. October 30\"}, {\"url\": \"https://www.eliteprospects.com/team/9966/winnipeg-jets/captaincy-history\", \"content\": \"2024-2025 2024-25 · Josh Morrissey ; 2023-2024 2023-24 · Josh Morrissey ; 2022-2023 2022-23 · Adam Lowry · Josh Morrissey ; 2021-2022 2021-22 · Josh Morrissey ; 2020-\"}]', name='tavily_search_results_json', id='5090c04a-da65-4b36-8a16-8762bf292d93', tool_call_id='call_2AdAlza8xELQ49FnNeSDKyMQ', artifact={'query': 'current captain of the Winnipeg Jets 2023', 'follow_up_questions': None, 'answer': None, 'images': [], 'results': [{'url': 'https://www.nytimes.com/athletic/4855976/2023/09/12/adam-lowry-jets-captain/', 'title': 'Jets name Adam Lowry as captain ahead of 2023-24 season', 'content': 'Jets name Adam Lowry as captain ahead of 2023-24 season: Why Winnipeg chose him - The Athletic Jets name Adam Lowry as captain ahead of 2023-24 season: Why Winnipeg chose him The team gave forward Adam Lowry the honor Tuesday, making him the third captain in franchise history since the Jets moved from Atlanta. Lowry did exactly that, stitched an “A” on his sweater for the first time in 2022-23, and is now captain of the Winnipeg Jets. Morrissey would have been a worthy choice as captain and is more of an impact player at his position than Lowry is. Lowry served as an assistant captain for the first time last season with Morrissey and Scheifele.', 'score': 0.90830135, 'raw_content': None}, {'url': 'https://en.wikipedia.org/wiki/Adam_Lowry', 'title': 'Adam Lowry - Wikipedia', 'content': \"Entering the 2023–24 season, Lowry was named captain of the Jets on September 12, 2023. He became the third in the team's history since relocating to Winnipeg,\", 'score': 0.8875269, 'raw_content': None}, {'url': 'https://www.hockey-reference.com/teams/WPG/2024.html', 'title': '2023-24 Winnipeg Jets Roster and Statistics - Hockey-Reference.com', 'content': 'Captain: Adam Lowry. Primary Arena: Canada Life Centre. Goals For ... Current Summary/Standings, Current Schedule/Results, Current Leaders, Current Stats.', 'score': 0.8815438, 'raw_content': None}, {'url': 'https://en.wikipedia.org/wiki/2023%E2%80%9324_Winnipeg_Jets_season', 'title': '2023–24 Winnipeg Jets season - Wikipedia', 'content': 'Captain · Adam Lowry · Alternate captains · Josh Morrissey · Mark Scheifele ... ^ \"New York Rangers - Winnipeg Jets - October 30, 2023\". NHL.com. October 30', 'score': 0.8665964, 'raw_content': None}, {'url': 'https://www.eliteprospects.com/team/9966/winnipeg-jets/captaincy-history', 'title': 'Team Captains of Winnipeg Jets - Elite Prospects', 'content': '2024-2025 2024-25 · Josh Morrissey ; 2023-2024 2023-24 · Josh Morrissey ; 2022-2023 2022-23 · Adam Lowry · Josh Morrissey ; 2021-2022 2021-22 · Josh Morrissey ; 2020-', 'score': 0.7576693, 'raw_content': None}], 'response_time': 1.17})]\n",
            "\n",
            "\n",
            "\n",
            "Receiving update from node: 'agent'\n",
            "[AIMessage(content='The current captain of the Winnipeg Jets is Adam Lowry. He was named captain ahead of the 2023-24 season.', additional_kwargs={'refusal': None}, response_metadata={'token_usage': {'completion_tokens': 28, 'prompt_tokens': 695, 'total_tokens': 723, 'completion_tokens_details': {'accepted_prediction_tokens': 0, 'audio_tokens': 0, 'reasoning_tokens': 0, 'rejected_prediction_tokens': 0}, 'prompt_tokens_details': {'audio_tokens': 0, 'cached_tokens': 0}}, 'model_name': 'gpt-4o-2024-08-06', 'system_fingerprint': 'fp_4691090a87', 'finish_reason': 'stop', 'logprobs': None}, id='run-396d01f2-cbaa-462a-abdf-f31ea4bb82e0-0', usage_metadata={'input_tokens': 695, 'output_tokens': 28, 'total_tokens': 723, 'input_token_details': {'audio': 0, 'cache_read': 0}, 'output_token_details': {'audio': 0, 'reasoning': 0}})]\n",
            "\n",
            "\n",
            "\n"
          ]
        }
      ],
      "source": [
        "from langchain_core.messages import HumanMessage\n",
        "\n",
        "inputs = {\"messages\" : [HumanMessage(content=\"Who is the current captain of the Winnipeg Jets?\")]}\n",
        "\n",
        "async for chunk in compiled_graph.astream(inputs, stream_mode=\"updates\"):\n",
        "    for node, values in chunk.items():\n",
        "        print(f\"Receiving update from node: '{node}'\")\n",
        "        print(values[\"messages\"])\n",
        "        print(\"\\n\\n\")"
      ]
    },
    {
      "cell_type": "code",
      "execution_count": 16,
      "metadata": {},
      "outputs": [],
      "source": [
        "from langchain_core.messages import AIMessage\n",
        "\n",
        "temp = [AIMessage(content='', additional_kwargs={'tool_calls': [{'id': 'call_PmSUgFXmpMr2w512eL2hzI3n', 'function': {'arguments': '{\"query\":\"current captain of the Winnipeg Jets 2023\"}', 'name': 'tavily_search_results_json'}, 'type': 'function'}], 'refusal': None}, response_metadata={'token_usage': {'completion_tokens': 27, 'prompt_tokens': 162, 'total_tokens': 189, 'completion_tokens_details': {'accepted_prediction_tokens': 0, 'audio_tokens': 0, 'reasoning_tokens': 0, 'rejected_prediction_tokens': 0}, 'prompt_tokens_details': {'audio_tokens': 0, 'cached_tokens': 0}}, 'model_name': 'gpt-4o-2024-08-06', 'system_fingerprint': 'fp_4691090a87', 'finish_reason': 'tool_calls', 'logprobs': None}, id='run-f7adb9d5-fef3-40b6-8777-3cd8941c06c4-0', tool_calls=[{'name': 'tavily_search_results_json', 'args': {'query': 'current captain of the Winnipeg Jets 2023'}, 'id': 'call_PmSUgFXmpMr2w512eL2hzI3n', 'type': 'tool_call'}], usage_metadata={'input_tokens': 162, 'output_tokens': 27, 'total_tokens': 189, 'input_token_details': {'audio': 0, 'cache_read': 0}, 'output_token_details': {'audio': 0, 'reasoning': 0}})]\n"
      ]
    },
    {
      "cell_type": "code",
      "execution_count": 17,
      "metadata": {},
      "outputs": [
        {
          "data": {
            "text/plain": [
              "1"
            ]
          },
          "execution_count": 17,
          "metadata": {},
          "output_type": "execute_result"
        }
      ],
      "source": [
        "len(temp)"
      ]
    },
    {
      "cell_type": "markdown",
      "metadata": {
        "id": "DBHnUtLSscRr"
      },
      "source": [
        "Let's look at what happened:\n",
        "\n",
        "1. Our state object was populated with our request\n",
        "2. The state object was passed into our entry point (agent node) and the agent node added an `AIMessage` to the state object and passed it along the conditional edge\n",
        "3. The conditional edge received the state object, found the \"tool_calls\" `additional_kwarg`, and sent the state object to the action node\n",
        "4. The action node added the response from the OpenAI function calling endpoint to the state object and passed it along the edge to the agent node\n",
        "5. The agent node added a response to the state object and passed it along the conditional edge\n",
        "6. The conditional edge received the state object, could not find the \"tool_calls\" `additional_kwarg` and passed the state object to END where we see it output in the cell above!\n",
        "\n",
        "Now let's look at an example that shows a multiple tool usage - all with the same flow!"
      ]
    },
    {
      "cell_type": "code",
      "execution_count": 18,
      "metadata": {
        "colab": {
          "base_uri": "https://localhost:8080/"
        },
        "id": "afv2BuEsV5JG",
        "outputId": "ff009536-d281-4a56-c126-9cd245352bfe"
      },
      "outputs": [
        {
          "name": "stdout",
          "output_type": "stream",
          "text": [
            "Receiving update from node: 'agent'\n",
            "[AIMessage(content='', additional_kwargs={'tool_calls': [{'id': 'call_vKcbz8k5fzJ4Rox1Rii9auOy', 'function': {'arguments': '{\"query\":\"QLoRA\"}', 'name': 'arxiv'}, 'type': 'function'}], 'refusal': None}, response_metadata={'token_usage': {'completion_tokens': 17, 'prompt_tokens': 178, 'total_tokens': 195, 'completion_tokens_details': {'accepted_prediction_tokens': 0, 'audio_tokens': 0, 'reasoning_tokens': 0, 'rejected_prediction_tokens': 0}, 'prompt_tokens_details': {'audio_tokens': 0, 'cached_tokens': 0}}, 'model_name': 'gpt-4o-2024-08-06', 'system_fingerprint': 'fp_4691090a87', 'finish_reason': 'tool_calls', 'logprobs': None}, id='run-5a160684-143d-4a94-9822-ab2089aae8fb-0', tool_calls=[{'name': 'arxiv', 'args': {'query': 'QLoRA'}, 'id': 'call_vKcbz8k5fzJ4Rox1Rii9auOy', 'type': 'tool_call'}], usage_metadata={'input_tokens': 178, 'output_tokens': 17, 'total_tokens': 195, 'input_token_details': {'audio': 0, 'cache_read': 0}, 'output_token_details': {'audio': 0, 'reasoning': 0}})]\n",
            "\n",
            "\n",
            "\n",
            "Receiving update from node: 'action'\n",
            "Tool Used: arxiv\n",
            "[ToolMessage(content='Published: 2023-05-23\\nTitle: QLoRA: Efficient Finetuning of Quantized LLMs\\nAuthors: Tim Dettmers, Artidoro Pagnoni, Ari Holtzman, Luke Zettlemoyer\\nSummary: We present QLoRA, an efficient finetuning approach that reduces memory usage\\nenough to finetune a 65B parameter model on a single 48GB GPU while preserving\\nfull 16-bit finetuning task performance. QLoRA backpropagates gradients through\\na frozen, 4-bit quantized pretrained language model into Low Rank\\nAdapters~(LoRA). Our best model family, which we name Guanaco, outperforms all\\nprevious openly released models on the Vicuna benchmark, reaching 99.3% of the\\nperformance level of ChatGPT while only requiring 24 hours of finetuning on a\\nsingle GPU. QLoRA introduces a number of innovations to save memory without\\nsacrificing performance: (a) 4-bit NormalFloat (NF4), a new data type that is\\ninformation theoretically optimal for normally distributed weights (b) double\\nquantization to reduce the average memory footprint by quantizing the\\nquantization constants, and (c) paged optimziers to manage memory spikes. We\\nuse QLoRA to finetune more than 1,000 models, providing a detailed analysis of\\ninstruction following and chatbot performance across 8 instruction datasets,\\nmultiple model types (LLaMA, T5), and model scales that would be infeasible to\\nrun with regular finetuning (e.g. 33B and 65B parameter models). Our results\\nshow that QLoRA finetuning on a small high-quality dataset leads to\\nstate-of-the-art results, even when using smaller models than the previous\\nSoTA. We provide a detailed analysis of chatbot performance based on both human\\nand GPT-4 evaluations showing that GPT-4 evaluations are a cheap and reasonable\\nalternative to human evaluation. Furthermore, we find that current chatbot\\nbenchmarks are not trustworthy to accurately evaluate the performance levels of\\nchatbots. A lemon-picked analysis demonstrates where Guanaco fails compared to\\nChatGPT. We release all of our models and code, including CUDA kernels for\\n4-bit training.\\n\\nPublished: 2024-05-27\\nTitle: Accurate LoRA-Finetuning Quantization of LLMs via Information Retention\\nAuthors: Haotong Qin, Xudong Ma, Xingyu Zheng, Xiaoyang Li, Yang Zhang, Shouda Liu, Jie Luo, Xianglong Liu, Michele Magno\\nSummary: The LoRA-finetuning quantization of LLMs has been extensively studied to\\nobtain accurate yet compact LLMs for deployment on resource-constrained\\nhardware. However, existing methods cause the quantized LLM to severely degrade\\nand even fail to benefit from the finetuning of LoRA. This paper proposes a\\nnovel IR-QLoRA for pushing quantized LLMs with LoRA to be highly accurate\\nthrough information retention. The proposed IR-QLoRA mainly relies on two\\ntechnologies derived from the perspective of unified information: (1)\\nstatistics-based Information Calibration Quantization allows the quantized\\nparameters of LLM to retain original information accurately; (2)\\nfinetuning-based Information Elastic Connection makes LoRA utilizes elastic\\nrepresentation transformation with diverse information. Comprehensive\\nexperiments show that IR-QLoRA can significantly improve accuracy across LLaMA\\nand LLaMA2 families under 2-4 bit-widths, e.g., 4- bit LLaMA-7B achieves 1.4%\\nimprovement on MMLU compared with the state-of-the-art methods. The significant\\nperformance gain requires only a tiny 0.31% additional time consumption,\\nrevealing the satisfactory efficiency of our IR-QLoRA. We highlight that\\nIR-QLoRA enjoys excellent versatility, compatible with various frameworks\\n(e.g., NormalFloat and Integer quantization) and brings general accuracy gains.\\nThe code is available at https://github.com/htqin/ir-qlora.\\n\\nPublished: 2024-06-12\\nTitle: Exploring Fact Memorization and Style Imitation in LLMs Using QLoRA: An Experimental Study and Quality Assessment Methods\\nAuthors: Eugene Vyborov, Oleksiy Osypenko, Serge Sotnyk\\nSummary: There are various methods for adapting LLMs to different domains. The most\\ncommon methods are prompting, finetuning, and RAG. In this w', name='arxiv', id='a78f6fb6-f7f7-4bad-a1c3-9c94a229b192', tool_call_id='call_vKcbz8k5fzJ4Rox1Rii9auOy')]\n",
            "\n",
            "\n",
            "\n",
            "Receiving update from node: 'agent'\n",
            "[AIMessage(content='', additional_kwargs={'tool_calls': [{'id': 'call_0QtznCyJJWYhO6kPa9Sh43sE', 'function': {'arguments': '{\"query\": \"Tim Dettmers latest tweet\"}', 'name': 'tavily_search_results_json'}, 'type': 'function'}, {'id': 'call_0ZbpAElbMaZ5b8CWQpHMZDjy', 'function': {'arguments': '{\"query\": \"Artidoro Pagnoni latest tweet\"}', 'name': 'tavily_search_results_json'}, 'type': 'function'}, {'id': 'call_CzCY7fG16GLBhd9DqWPQKdiR', 'function': {'arguments': '{\"query\": \"Ari Holtzman latest tweet\"}', 'name': 'tavily_search_results_json'}, 'type': 'function'}, {'id': 'call_DUSOVpmk5203k26x9dIVJm4l', 'function': {'arguments': '{\"query\": \"Luke Zettlemoyer latest tweet\"}', 'name': 'tavily_search_results_json'}, 'type': 'function'}], 'refusal': None}, response_metadata={'token_usage': {'completion_tokens': 113, 'prompt_tokens': 1157, 'total_tokens': 1270, 'completion_tokens_details': {'accepted_prediction_tokens': 0, 'audio_tokens': 0, 'reasoning_tokens': 0, 'rejected_prediction_tokens': 0}, 'prompt_tokens_details': {'audio_tokens': 0, 'cached_tokens': 0}}, 'model_name': 'gpt-4o-2024-08-06', 'system_fingerprint': 'fp_4691090a87', 'finish_reason': 'tool_calls', 'logprobs': None}, id='run-df1a800c-fe4a-4685-b953-5f1944453c52-0', tool_calls=[{'name': 'tavily_search_results_json', 'args': {'query': 'Tim Dettmers latest tweet'}, 'id': 'call_0QtznCyJJWYhO6kPa9Sh43sE', 'type': 'tool_call'}, {'name': 'tavily_search_results_json', 'args': {'query': 'Artidoro Pagnoni latest tweet'}, 'id': 'call_0ZbpAElbMaZ5b8CWQpHMZDjy', 'type': 'tool_call'}, {'name': 'tavily_search_results_json', 'args': {'query': 'Ari Holtzman latest tweet'}, 'id': 'call_CzCY7fG16GLBhd9DqWPQKdiR', 'type': 'tool_call'}, {'name': 'tavily_search_results_json', 'args': {'query': 'Luke Zettlemoyer latest tweet'}, 'id': 'call_DUSOVpmk5203k26x9dIVJm4l', 'type': 'tool_call'}], usage_metadata={'input_tokens': 1157, 'output_tokens': 113, 'total_tokens': 1270, 'input_token_details': {'audio': 0, 'cache_read': 0}, 'output_token_details': {'audio': 0, 'reasoning': 0}})]\n",
            "\n",
            "\n",
            "\n",
            "Receiving update from node: 'action'\n",
            "Tool Used: tavily_search_results_json\n",
            "[ToolMessage(content='[{\"url\": \"https://threadreaderapp.com/user/Tim_Dettmers\", \"content\": \"Unroll Thread You can paste full URL like: https://x.com/threadreaderapp/status/1644127596119195649 https://twitter.com/Tim_Dettmers/status/1661379354507476994 Colab: colab.research.google.com/drive/17XEqL1J…  Want to see how good Guanaco 65B is? Our work on loss spikes and stable 8-bit CLIP training is the largest Int8 training to date (1B). We release LLM.int8(), the first 8-bit inference method that saves 2x memory and does not degrade performance for 175B models by exploiting emergent properties. Emergence: timdettmers.com/2022/08/17/llm…  LLM.int8() works by using: (1) the high-precision vectors-wise quantization technique and (2) mixed precision decomposition. We release the public beta for bnb-int8🟪 for all @huggingface 🤗models, which allows for Int8 inference without performance degradation up to scales of 176B params 📈. Video:  8-bit optimizers are mostly useful to finetune large models that did not fit into memory before.\"}, {\"url\": \"https://twitter.com/Tim_Dettmers/highlights\", \"content\": \"After 7 months on the job market, I am happy to announce: - I joined @allen_ai - Professor at @CarnegieMellon from Fall 2025 - New bitsandbytes maintainer\"}, {\"url\": \"https://twitter.com/tim_dettmers\", \"content\": \"What?! DeepSeek-R1-Lite-Preview \\\\\"o1-preview-level performance on AIME & MATH benchmarks\\\\\" What is happening this week? Didnt see that coming, holy moly. x.com/\"}, {\"url\": \"https://x.com/tim_dettmers?lang=en\", \"content\": \"Creator of bitsandbytes.Research Scientist @allen_ai and incoming professor @CarnegieMellon. I blog about deep learning and PhD life at http://timdettmers.com.\"}, {\"url\": \"https://developer.nvidia.com/blog/author/tdettmers/\", \"content\": \"He runs a blog about deep learning and takes part in Kaggle data science competitions where he has reached a world rank of 63. Follow @Tim_Dettmers on Twitter\"}]', name='tavily_search_results_json', id='883b69e7-a4a8-415f-888f-a71cb3c57e14', tool_call_id='call_0QtznCyJJWYhO6kPa9Sh43sE', artifact={'query': 'Tim Dettmers latest tweet', 'follow_up_questions': None, 'answer': None, 'images': [], 'results': [{'url': 'https://threadreaderapp.com/user/Tim_Dettmers', 'title': \"Tim Dettmers's Threads\", 'content': 'Unroll Thread You can paste full URL like: https://x.com/threadreaderapp/status/1644127596119195649 https://twitter.com/Tim_Dettmers/status/1661379354507476994 Colab: colab.research.google.com/drive/17XEqL1J…  Want to see how good Guanaco 65B is? Our work on loss spikes and stable 8-bit CLIP training is the largest Int8 training to date (1B). We release LLM.int8(), the first 8-bit inference method that saves 2x memory and does not degrade performance for 175B models by exploiting emergent properties. Emergence: timdettmers.com/2022/08/17/llm…  LLM.int8() works by using: (1) the high-precision vectors-wise quantization technique and (2) mixed precision decomposition. We release the public beta for bnb-int8🟪 for all @huggingface 🤗models, which allows for Int8 inference without performance degradation up to scales of 176B params 📈. Video:  8-bit optimizers are mostly useful to finetune large models that did not fit into memory before.', 'score': 0.7489592, 'raw_content': None}, {'url': 'https://twitter.com/Tim_Dettmers/highlights', 'title': 'Highlights by Tim Dettmers (@Tim_Dettmers) / X', 'content': 'After 7 months on the job market, I am happy to announce: - I joined @allen_ai - Professor at @CarnegieMellon from Fall 2025 - New bitsandbytes maintainer', 'score': 0.6892434, 'raw_content': None}, {'url': 'https://twitter.com/tim_dettmers', 'title': 'Tim Dettmers (@Tim_Dettmers) / X', 'content': 'What?! DeepSeek-R1-Lite-Preview \"o1-preview-level performance on AIME & MATH benchmarks\" What is happening this week? Didnt see that coming, holy moly. x.com/', 'score': 0.63234437, 'raw_content': None}, {'url': 'https://x.com/tim_dettmers?lang=en', 'title': 'Tim Dettmers (@Tim_Dettmers) / X', 'content': 'Creator of bitsandbytes.Research Scientist @allen_ai and incoming professor @CarnegieMellon. I blog about deep learning and PhD life at http://timdettmers.com.', 'score': 0.61168414, 'raw_content': None}, {'url': 'https://developer.nvidia.com/blog/author/tdettmers/', 'title': 'Author: Tim Dettmers | NVIDIA Technical Blog', 'content': 'He runs a blog about deep learning and takes part in Kaggle data science competitions where he has reached a world rank of 63. Follow @Tim_Dettmers on Twitter', 'score': 0.5300668, 'raw_content': None}], 'response_time': 1.63}), ToolMessage(content='[{\"url\": \"https://x.com/ansongni?lang=en\", \"content\": \"Artidoro Pagnoni · @ArtidoroPagnoni. ·. Dec 13, 2024. Introducing the Byte Latent Transformer (BLT) – An LLM architecture that scales better\"}, {\"url\": \"https://x.com/artidoropagnoni?lang=en\", \"content\": \"Today we\\'re announcing the recipients of our LLM Evaluation research grants. These four projects will each receive $200K in grant funding from Meta to further\"}, {\"url\": \"https://twitter.com/ArtidoroPagnoni/highlights\", \"content\": \"Artidoro Pagnoni\\'s Highlights ... Introducing the Byte Latent Transformer (BLT) – An LLM architecture that scales better than Llama 3 using byte-patches instead\"}, {\"url\": \"https://twitter.com/apagnonipagnoni?lang=ms\", \"content\": \"Don\\'t let climate change deniers derail progress in the global effort to #ActOnClimate: http://ofa.bo/e5FW. Imej. 204. 565. 1K. Artidoro Pagnoni menyiarkan\"}, {\"url\": \"https://lti.cmu.edu/people/students/pagnoni-artidoro.html\", \"content\": \"Artidoro Pagnoni - Language Technologies Institute - School of Computer Science - Carnegie Mellon University School of Computer Science \\xa0›\\xa0 Language Technologies Institute \\xa0›\\xa0 People \\xa0›\\xa0 Students \\xa0›\\xa0 Artidoro Pagnoni Master of Language Technologies  www.cmu.edu Leaving the LTI PhD in LTI Dual-Degree PhD in LTI (Portugal Partnership) Master of Language Technologies Master of Computational Data Science LTI Ph.D. Dissertations LTI Ph.D. Dissertations LTI Ph.D. Dissertations LTI Ph.D. Dissertations: 2001-1997 LTI Ph.D. Dissertations: 2006-2002 LTI Ph.D. Dissertations: 2011-2007 LTI Ph.D. Dissertations: 2016-2012 LTI Ph.D. Dissertations: 2021-2017 News and Events Events About LTI LTI Open House 2024 LTI Colloquium Repository of LTI Intranet Links, Forms and Resources LTI Open House 2025 Visit LTI LTI Faculty Intranet LTI Student Resources LTI Student Travel\"}]', name='tavily_search_results_json', id='d53b7b7b-9f46-47b9-8c66-e6b7b703606f', tool_call_id='call_0ZbpAElbMaZ5b8CWQpHMZDjy', artifact={'query': 'Artidoro Pagnoni latest tweet', 'follow_up_questions': None, 'answer': None, 'images': [], 'results': [{'url': 'https://x.com/ansongni?lang=en', 'title': 'Ansong Ni (@AnsongNi) / X', 'content': 'Artidoro Pagnoni · @ArtidoroPagnoni. ·. Dec 13, 2024. Introducing the Byte Latent Transformer (BLT) – An LLM architecture that scales better', 'score': 0.7845341, 'raw_content': None}, {'url': 'https://x.com/artidoropagnoni?lang=en', 'title': 'Artidoro Pagnoni (@ArtidoroPagnoni) / X', 'content': \"Today we're announcing the recipients of our LLM Evaluation research grants. These four projects will each receive $200K in grant funding from Meta to further\", 'score': 0.6739866, 'raw_content': None}, {'url': 'https://twitter.com/ArtidoroPagnoni/highlights', 'title': 'Highlights by Artidoro Pagnoni (@ArtidoroPagnoni) / X', 'content': \"Artidoro Pagnoni's Highlights ... Introducing the Byte Latent Transformer (BLT) – An LLM architecture that scales better than Llama 3 using byte-patches instead\", 'score': 0.6546525, 'raw_content': None}, {'url': 'https://twitter.com/apagnonipagnoni?lang=ms', 'title': 'Artidoro Pagnoni (@ApagnoniPagnoni) / X', 'content': \"Don't let climate change deniers derail progress in the global effort to #ActOnClimate: http://ofa.bo/e5FW. Imej. 204. 565. 1K. Artidoro Pagnoni menyiarkan\", 'score': 0.6337056, 'raw_content': None}, {'url': 'https://lti.cmu.edu/people/students/pagnoni-artidoro.html', 'title': 'Artidoro Pagnoni - Language Technologies Institute', 'content': 'Artidoro Pagnoni - Language Technologies Institute - School of Computer Science - Carnegie Mellon University School of Computer Science \\xa0›\\xa0 Language Technologies Institute \\xa0›\\xa0 People \\xa0›\\xa0 Students \\xa0›\\xa0 Artidoro Pagnoni Master of Language Technologies  www.cmu.edu Leaving the LTI PhD in LTI Dual-Degree PhD in LTI (Portugal Partnership) Master of Language Technologies Master of Computational Data Science LTI Ph.D. Dissertations LTI Ph.D. Dissertations LTI Ph.D. Dissertations LTI Ph.D. Dissertations: 2001-1997 LTI Ph.D. Dissertations: 2006-2002 LTI Ph.D. Dissertations: 2011-2007 LTI Ph.D. Dissertations: 2016-2012 LTI Ph.D. Dissertations: 2021-2017 News and Events Events About LTI LTI Open House 2024 LTI Colloquium Repository of LTI Intranet Links, Forms and Resources LTI Open House 2025 Visit LTI LTI Faculty Intranet LTI Student Resources LTI Student Travel', 'score': 0.37490568, 'raw_content': None}], 'response_time': 1.45}), ToolMessage(content='[{\"url\": \"https://x.com/universeinanegg?lang=en\", \"content\": \"·. Jan 26. New goal: publish enough in every genre I care to so that I can ask any new LLM released to help me write \\'in the style of Ari Holtzman\\'. 1.\"}, {\"url\": \"https://twitter.com/universeinanegg/status/1821229923605873003\", \"content\": \"Some sad news: My father died unexpectedly a bit over a week ago. We were close. Apologies for my delayed response times,\"}, {\"url\": \"https://twitter.com/universeinanegg/status/1786601100751343866\", \"content\": \"I\\'m gonna tap this sign every time a new pretraining corpus gets released.\"}, {\"url\": \"https://x.com/universeinanegg/status/1874683146928894263\", \"content\": \"Ari Holtzman · @universeinanegg. Felix\\'s papers, little blog posts, and tweets were a window into someone actually, actually try to make sense\"}, {\"url\": \"https://ci.cs.uchicago.edu/\", \"content\": \"Among the most interesting activities carried out by humans is the act of communication, cooperation, and collaboration with one another. The UChicago Communication & Intelligence (C&I) group is dedicated to understanding these mysterious new machines and their behaviors and to studying new types of interactions that can facilitate humans and AI models to communicate, cooperate, and collaborate with each other. Currently, we’re a team of three human PIs—Ari Holtzman, Mina Lee, and Chenhao Tan. We are passionate about topics such as Understanding the landscape of human-human, human-machine, and machine-machine communication Characterizing, theorizing, and building AI models that generate human-interpretable media such as texts and images Studying the effect, potential, and hazards of information ecosystems consisting of humans and AI models.\"}]', name='tavily_search_results_json', id='b0df1db8-8dd7-43ce-988a-2a88fa465ba6', tool_call_id='call_CzCY7fG16GLBhd9DqWPQKdiR', artifact={'query': 'Ari Holtzman latest tweet', 'follow_up_questions': None, 'answer': None, 'images': [], 'results': [{'url': 'https://x.com/universeinanegg?lang=en', 'title': 'Ari Holtzman (@universeinanegg) / X', 'content': \"·. Jan 26. New goal: publish enough in every genre I care to so that I can ask any new LLM released to help me write 'in the style of Ari Holtzman'. 1.\", 'score': 0.73755574, 'raw_content': None}, {'url': 'https://twitter.com/universeinanegg/status/1821229923605873003', 'title': 'Ari Holtzman on X: \"Some sad news: My father died unexpectedly a ...', 'content': 'Some sad news: My father died unexpectedly a bit over a week ago. We were close. Apologies for my delayed response times,', 'score': 0.54971373, 'raw_content': None}, {'url': 'https://twitter.com/universeinanegg/status/1786601100751343866', 'title': 'Ari Holtzman on X: \"I\\'m gonna tap this sign every time a new ...', 'content': \"I'm gonna tap this sign every time a new pretraining corpus gets released.\", 'score': 0.5040288, 'raw_content': None}, {'url': 'https://x.com/universeinanegg/status/1874683146928894263', 'title': 'Ari Holtzman - X', 'content': \"Ari Holtzman · @universeinanegg. Felix's papers, little blog posts, and tweets were a window into someone actually, actually try to make sense\", 'score': 0.37772483, 'raw_content': None}, {'url': 'https://ci.cs.uchicago.edu/', 'title': 'UChicago C&I', 'content': 'Among the most interesting activities carried out by humans is the act of communication, cooperation, and collaboration with one another. The UChicago Communication & Intelligence (C&I) group is dedicated to understanding these mysterious new machines and their behaviors and to studying new types of interactions that can facilitate humans and AI models to communicate, cooperate, and collaborate with each other. Currently, we’re a team of three human PIs—Ari Holtzman, Mina Lee, and Chenhao Tan. We are passionate about topics such as Understanding the landscape of human-human, human-machine, and machine-machine communication Characterizing, theorizing, and building AI models that generate human-interpretable media such as texts and images Studying the effect, potential, and hazards of information ecosystems consisting of humans and AI models.', 'score': 0.31859165, 'raw_content': None}], 'response_time': 1.42}), ToolMessage(content='[{\"url\": \"https://x.com/lukezettlemoyer?lang=en\", \"content\": \"I\\'m excited to push on making LLMs more useful and accessible, via open-sourcing data/models and real-world applications. I\\'ll continue to be based in Berlin.\"}, {\"url\": \"https://twitter.com/lukezettlemoyer/status/1003662931479941120\", \"content\": \"Come see Julian Michael presenting his work in question answer meaning representations, now at @NAACLHLT ! Image. 3:41 PM · Jun 4, 2018.\"}, {\"url\": \"https://ceur-ws.org/Vol-3180/paper-52.pdf\", \"content\": \"For future work experiments with transformer models pre-trained on tweets is advised and experimenting with different data augmentation techniques to increase the data set may yield better results. 2021: Check-worthiness estimation and fake news detection using transformer models http://ceur-ws.org/Vol-2936/paper-44.pdf [3] Jacob Devlin, Ming-Wei Chang, Kenton Lee, Kristina Toutanova, BERT: Pre-training of Deep Bidirectional Transformers for Language Understanding https://arxiv.org/pdf/1810.04805.pdf [4] Victor Sanh, Lysandre Debut, Julien Chaumond, Thomas Wolf , DistilBERT, a distilled version of BERT: smaller, faster, cheaper and lighter https://arxiv.org/pdf/1910.01108.pdf [5] Yinhan Liu, Myle Ott, Naman Goyal, Jingfei Du, Mandar Joshi, Danqi Chen, Omer Levy, Mike Lewis, Luke Zettlemoyer, Veselin Stoyanov, RoBERTa: A Robustly Optimized BERT Pretraining Approach https://arxiv.org/pdf/1907.11692.pdf [6] Naman Goyal, Vishrav Chaudhary, Guillaume Wenzek, Francisco Guzmὰn, Edouard Grave, Myle Ott, Luke Zettlemoyer, Veselin Stoyanov, Unsupervised Cross-lingual Representation Learning at Scale https://arxiv.org/pdf/1911.02116.pdf [7] Robiert Sepúlveda-Torres, Estela Saquete GPLSI team at CheckThat!\"}, {\"url\": \"https://linguistics.washington.edu/people/luke-zettlemoyer\", \"content\": \"Luke Zettlemoyer | Department of Linguistics | University of Washington Main menu Department of Linguistics Graduate Students Graduate Students Alumni News Programs & Courses Programs & Courses B.A. in Linguistics Minor in Linguistics Linguistic Society at UW M.S. in Computational Linguistics Ph.D. in Linguistics Courses Courses Research Resources UW Working Papers in Linguistics Labs & Groups Labs & Groups Computational Linguistics Linguistics Fieldwork Lab Linguistic Bias Working Group Linguistics Society at the UW Treehouse Meetings (Computational Linguistics) Lab & Group Events Share News with Us Resources Resources Financial Resources and Approvals UW Resources Non-UW Resources For Faculty & Staff For Faculty & Staff Conference Room Calendar Resources & Related Links Computer Science and Engineering Support Linguistics Department of Linguistics\"}, {\"url\": \"https://dl.acm.org/doi/fullHtml/10.1145/3529836.3529941\", \"content\": \"We build the model with RoBERTa model and CNN, then train the model with given tweet text and sentiment labels so that the deciding phrases of sentiments can be predicted. BERT is a pretrained language model which was trained on massive amount of training data in unsupervised approach and it achieved astonishing results on different NLP tasks, including sentiment analysis, semantic role labeling, sentence classification, and words with multiple meanings [13]. Generally RoBERTa has better performance than BERT, to find the most effective model, we compared 4 different RoBERTa variants on Tensorflow: RoBERTa - base, RoBERTa - large, XLM - RoBERTa - base, RoBERTa - mnli.The whole model is consist of three parts, RoBERTa model, fully connected layers and activation layer. When the model is trained without fine-tuning, XLM-RoBERTa-base has the highest score of 0.595.\"}]', name='tavily_search_results_json', id='01782006-18cf-4aee-8924-85b5229d6751', tool_call_id='call_DUSOVpmk5203k26x9dIVJm4l', artifact={'query': 'Luke Zettlemoyer latest tweet', 'follow_up_questions': None, 'answer': None, 'images': [], 'results': [{'url': 'https://x.com/lukezettlemoyer?lang=en', 'title': 'Luke Zettlemoyer (@LukeZettlemoyer) / X', 'content': \"I'm excited to push on making LLMs more useful and accessible, via open-sourcing data/models and real-world applications. I'll continue to be based in Berlin.\", 'score': 0.6701125, 'raw_content': None}, {'url': 'https://twitter.com/lukezettlemoyer/status/1003662931479941120', 'title': 'Luke Zettlemoyer on X: \"Come see Julian Michael presenting his ...', 'content': 'Come see Julian Michael presenting his work in question answer meaning representations, now at @NAACLHLT ! Image. 3:41 PM · Jun 4, 2018.', 'score': 0.6609831, 'raw_content': None}, {'url': 'https://ceur-ws.org/Vol-3180/paper-52.pdf', 'title': '[PDF] AI Rational at CheckThat! 2022: Using transformer models for tweet ...', 'content': 'For future work experiments with transformer models pre-trained on tweets is advised and experimenting with different data augmentation techniques to increase the data set may yield better results. 2021: Check-worthiness estimation and fake news detection using transformer models http://ceur-ws.org/Vol-2936/paper-44.pdf [3] Jacob Devlin, Ming-Wei Chang, Kenton Lee, Kristina Toutanova, BERT: Pre-training of Deep Bidirectional Transformers for Language Understanding https://arxiv.org/pdf/1810.04805.pdf [4] Victor Sanh, Lysandre Debut, Julien Chaumond, Thomas Wolf , DistilBERT, a distilled version of BERT: smaller, faster, cheaper and lighter https://arxiv.org/pdf/1910.01108.pdf [5] Yinhan Liu, Myle Ott, Naman Goyal, Jingfei Du, Mandar Joshi, Danqi Chen, Omer Levy, Mike Lewis, Luke Zettlemoyer, Veselin Stoyanov, RoBERTa: A Robustly Optimized BERT Pretraining Approach https://arxiv.org/pdf/1907.11692.pdf [6] Naman Goyal, Vishrav Chaudhary, Guillaume Wenzek, Francisco Guzmὰn, Edouard Grave, Myle Ott, Luke Zettlemoyer, Veselin Stoyanov, Unsupervised Cross-lingual Representation Learning at Scale https://arxiv.org/pdf/1911.02116.pdf [7] Robiert Sepúlveda-Torres, Estela Saquete GPLSI team at CheckThat!', 'score': 0.35952207, 'raw_content': None}, {'url': 'https://linguistics.washington.edu/people/luke-zettlemoyer', 'title': 'Luke Zettlemoyer - UW Linguistics Department', 'content': 'Luke Zettlemoyer | Department of Linguistics | University of Washington Main menu Department of Linguistics Graduate Students Graduate Students Alumni News Programs & Courses Programs & Courses B.A. in Linguistics Minor in Linguistics Linguistic Society at UW M.S. in Computational Linguistics Ph.D. in Linguistics Courses Courses Research Resources UW Working Papers in Linguistics Labs & Groups Labs & Groups Computational Linguistics Linguistics Fieldwork Lab Linguistic Bias Working Group Linguistics Society at the UW Treehouse Meetings (Computational Linguistics) Lab & Group Events Share News with Us Resources Resources Financial Resources and Approvals UW Resources Non-UW Resources For Faculty & Staff For Faculty & Staff Conference Room Calendar Resources & Related Links Computer Science and Engineering Support Linguistics Department of Linguistics', 'score': 0.12893064, 'raw_content': None}, {'url': 'https://dl.acm.org/doi/fullHtml/10.1145/3529836.3529941', 'title': 'Tweet Sentiment Extraction Using Byte Level Pretrained Language ...', 'content': 'We build the model with RoBERTa model and CNN, then train the model with given tweet text and sentiment labels so that the deciding phrases of sentiments can be predicted. BERT is a pretrained language model which was trained on massive amount of training data in unsupervised approach and it achieved astonishing results on different NLP tasks, including sentiment analysis, semantic role labeling, sentence classification, and words with multiple meanings [13]. Generally RoBERTa has better performance than BERT, to find the most effective model, we compared 4 different RoBERTa variants on Tensorflow: RoBERTa - base, RoBERTa - large, XLM - RoBERTa - base, RoBERTa - mnli.The whole model is consist of three parts, RoBERTa model, fully connected layers and activation layer. When the model is trained without fine-tuning, XLM-RoBERTa-base has the highest score of 0.595.', 'score': 0.046991114, 'raw_content': None}], 'response_time': 1.32})]\n",
            "\n",
            "\n",
            "\n",
            "Receiving update from node: 'agent'\n",
            "[AIMessage(content='Here are the latest tweets or related content from the authors of the QLoRA paper:\\n\\n1. **Tim Dettmers**:\\n   - [Tim Dettmers on Twitter](https://twitter.com/tim_dettmers): \"What?! DeepSeek-R1-Lite-Preview \\'o1-preview-level performance on AIME & MATH benchmarks\\' What is happening this week? Didn\\'t see that coming, holy moly.\"\\n   - [Tim Dettmers Highlights](https://twitter.com/Tim_Dettmers/highlights): \"After 7 months on the job market, I am happy to announce: - I joined @allen_ai - Professor at @CarnegieMellon from Fall 2025 - New bitsandbytes maintainer\"\\n\\n2. **Artidoro Pagnoni**:\\n   - [Artidoro Pagnoni on Twitter](https://x.com/ansongni?lang=en): \"Introducing the Byte Latent Transformer (BLT) – An LLM architecture that scales better.\"\\n   - [Artidoro Pagnoni Highlights](https://twitter.com/ArtidoroPagnoni/highlights): \"Introducing the Byte Latent Transformer (BLT) – An LLM architecture that scales better than Llama 3 using byte-patches instead.\"\\n\\n3. **Ari Holtzman**:\\n   - [Ari Holtzman on Twitter](https://x.com/universeinanegg?lang=en): \"New goal: publish enough in every genre I care to so that I can ask any new LLM released to help me write \\'in the style of Ari Holtzman\\'.\"\\n   - [Ari Holtzman on Twitter](https://twitter.com/universeinanegg/status/1821229923605873003): \"Some sad news: My father died unexpectedly a bit over a week ago. We were close. Apologies for my delayed response times.\"\\n\\n4. **Luke Zettlemoyer**:\\n   - [Luke Zettlemoyer on Twitter](https://x.com/lukezettlemoyer?lang=en): \"I\\'m excited to push on making LLMs more useful and accessible, via open-sourcing data/models and real-world applications. I\\'ll continue to be based in Berlin.\"\\n\\nThese links provide a glimpse into their recent activities and thoughts shared on Twitter.', additional_kwargs={'refusal': None}, response_metadata={'token_usage': {'completion_tokens': 476, 'prompt_tokens': 3690, 'total_tokens': 4166, 'completion_tokens_details': {'accepted_prediction_tokens': 0, 'audio_tokens': 0, 'reasoning_tokens': 0, 'rejected_prediction_tokens': 0}, 'prompt_tokens_details': {'audio_tokens': 0, 'cached_tokens': 1152}}, 'model_name': 'gpt-4o-2024-08-06', 'system_fingerprint': 'fp_4691090a87', 'finish_reason': 'stop', 'logprobs': None}, id='run-994baf4a-87df-4121-94ca-c374b3656384-0', usage_metadata={'input_tokens': 3690, 'output_tokens': 476, 'total_tokens': 4166, 'input_token_details': {'audio': 0, 'cache_read': 1152}, 'output_token_details': {'audio': 0, 'reasoning': 0}})]\n",
            "\n",
            "\n",
            "\n"
          ]
        }
      ],
      "source": [
        "inputs = {\"messages\" : [HumanMessage(content=\"Search Arxiv for the QLoRA paper, then search each of the authors to find out their latest Tweet using Tavily!\")]}\n",
        "\n",
        "async for chunk in compiled_graph.astream(inputs, stream_mode=\"updates\"):\n",
        "    for node, values in chunk.items():\n",
        "        print(f\"Receiving update from node: '{node}'\")\n",
        "        if node == \"action\":\n",
        "          print(f\"Tool Used: {values['messages'][0].name}\")\n",
        "        print(values[\"messages\"])\n",
        "\n",
        "        print(\"\\n\\n\")"
      ]
    },
    {
      "cell_type": "markdown",
      "metadata": {
        "id": "CXzDlZVz1Hnf"
      },
      "source": [
        "#### 🏗️ Activity #2:\n",
        "\n",
        "Please write out the steps the agent took to arrive at the correct answer.\n",
        "\n",
        "#### 📝 Activity Answer #2:\n",
        "\n",
        "1. The LLM model determined the input required using the arxiv tool to be able to respond, with the argument \"QLoRA\"\n",
        "2. The agent executed that tool call and parameter.\n",
        "3. The LLM model, using the response from the tool call, determined the tool call to be \"search_tavily\" should be used to search for the latest tweet from the authors of the QLoRA paper (multiple tool calls)\n",
        "4. The agent executed that tool calls with the specified parameters.\n",
        "5. The LLM model generates a response using all the context gathered during previous steps."
      ]
    },
    {
      "cell_type": "markdown",
      "metadata": {
        "id": "v7c8-Uyarh1v"
      },
      "source": [
        "## Part 1: LangSmith Evaluator"
      ]
    },
    {
      "cell_type": "markdown",
      "metadata": {
        "id": "pV3XeFOT1Sar"
      },
      "source": [
        "### Pre-processing for LangSmith"
      ]
    },
    {
      "cell_type": "markdown",
      "metadata": {
        "id": "wruQCuzewUuO"
      },
      "source": [
        "To do a little bit more preprocessing, let's wrap our LangGraph agent in a simple chain."
      ]
    },
    {
      "cell_type": "code",
      "execution_count": 19,
      "metadata": {
        "id": "oeXdQgbxwhTv"
      },
      "outputs": [],
      "source": [
        "def convert_inputs(input_object):\n",
        "  return {\"messages\" : [HumanMessage(content=input_object[\"question\"])]}\n",
        "\n",
        "def parse_output(input_state):\n",
        "  return input_state[\"messages\"][-1].content\n",
        "\n",
        "agent_chain = convert_inputs | compiled_graph | parse_output"
      ]
    },
    {
      "cell_type": "code",
      "execution_count": 20,
      "metadata": {
        "colab": {
          "base_uri": "https://localhost:8080/",
          "height": 105
        },
        "id": "orYxBZXSxJjZ",
        "outputId": "76be837b-6424-4516-8f63-07fbd8c25bf5"
      },
      "outputs": [
        {
          "data": {
            "text/plain": [
              "'RAG stands for Retrieval-Augmented Generation. It is a technique used in natural language processing and machine learning to improve the performance of language models. RAG combines the strengths of retrieval-based methods and generative models to produce more accurate and contextually relevant responses.\\n\\nIn a typical RAG setup, a language model is augmented with a retrieval component that searches a large corpus of documents or data to find relevant information based on a given query or input. The retrieved information is then used to inform or guide the generative model in producing a response. This approach allows the model to access up-to-date and specific information that it might not have been trained on, leading to more accurate and informative outputs.\\n\\nRAG is particularly useful in applications where the model needs to provide detailed and factual information, such as question answering, customer support, and knowledge-based tasks.'"
            ]
          },
          "execution_count": 20,
          "metadata": {},
          "output_type": "execute_result"
        }
      ],
      "source": [
        "agent_chain.invoke({\"question\" : \"What is RAG?\"})"
      ]
    },
    {
      "cell_type": "markdown",
      "metadata": {
        "id": "f9UkCIqkpyZu"
      },
      "source": [
        "### Task 1: Creating An Evaluation Dataset\n",
        "\n",
        "Just as we saw last week, we'll want to create a dataset to test our Agent's ability to answer questions.\n",
        "\n",
        "In order to do this - we'll want to provide some questions and some answers. Let's look at how we can create such a dataset below.\n",
        "\n",
        "```python\n",
        "questions = [\n",
        "    \"What optimizer is used in QLoRA?\",\n",
        "    \"What data type was created in the QLoRA paper?\",\n",
        "    \"What is a Retrieval Augmented Generation system?\",\n",
        "    \"Who authored the QLoRA paper?\",\n",
        "    \"What is the most popular deep learning framework?\",\n",
        "    \"What significant improvements does the LoRA system make?\"\n",
        "]\n",
        "\n",
        "answers = [\n",
        "    {\"must_mention\" : [\"paged\", \"optimizer\"]},\n",
        "    {\"must_mention\" : [\"NF4\", \"NormalFloat\"]},\n",
        "    {\"must_mention\" : [\"ground\", \"context\"]},\n",
        "    {\"must_mention\" : [\"Tim\", \"Dettmers\"]},\n",
        "    {\"must_mention\" : [\"PyTorch\", \"TensorFlow\"]},\n",
        "    {\"must_mention\" : [\"reduce\", \"parameters\"]},\n",
        "]\n",
        "```"
      ]
    },
    {
      "cell_type": "markdown",
      "metadata": {
        "id": "VfMXF2KAsQxs"
      },
      "source": [
        "#### 🏗️ Activity #3:\n",
        "\n",
        "Please create a dataset in the above format with at least 5 questions."
      ]
    },
    {
      "cell_type": "code",
      "execution_count": 23,
      "metadata": {
        "id": "CbagRuJop83E"
      },
      "outputs": [],
      "source": [
        "questions = [\n",
        "    \"Who created the Python programming language?\",\n",
        "    \"What does RAG stand for in the context of AI applications?\",\n",
        "    \"What are the most popular programming languages used for data science?\",\n",
        "    \"What does an actuary do?\",\n",
        "    \"What significant improvements does the LoRA system make?\"\n",
        "]\n",
        "\n",
        "answers = [\n",
        "    {\"must_mention\" : [\"Guido\", \"van Rossum\"]},\n",
        "    {\"must_mention\" : [\"Retrieval\", \"Augmented\"]},\n",
        "    {\"must_mention\" : [\"Python\", \"SQL\"]},\n",
        "    {\"must_mention\" : [\"statistics\", \"insurance\"]},\n",
        "    {\"must_mention\" : [\"reduce\", \"parameters\"]},\n",
        "]"
      ]
    },
    {
      "cell_type": "markdown",
      "metadata": {
        "id": "z7QVFuAmsh7L"
      },
      "source": [
        "Now we can add our dataset to our LangSmith project using the following code which we saw last Thursday!"
      ]
    },
    {
      "cell_type": "code",
      "execution_count": 24,
      "metadata": {
        "id": "RLfrZrgSsn85"
      },
      "outputs": [],
      "source": [
        "from langsmith import Client\n",
        "\n",
        "client = Client()\n",
        "\n",
        "dataset_name = f\"Retrieval Augmented Generation - Evaluation Dataset - {uuid4().hex[0:8]}\"\n",
        "\n",
        "dataset = client.create_dataset(\n",
        "    dataset_name=dataset_name,\n",
        "    description=\"Questions about the QLoRA Paper to Evaluate RAG over the same paper.\"\n",
        ")\n",
        "\n",
        "client.create_examples(\n",
        "    inputs=[{\"question\" : q} for q in questions],\n",
        "    outputs=answers,\n",
        "    dataset_id=dataset.id,\n",
        ")"
      ]
    },
    {
      "cell_type": "markdown",
      "metadata": {
        "id": "ciV73F9Q04w0"
      },
      "source": [
        "#### ❓ Question #3:\n",
        "\n",
        "How are the correct answers associated with the questions?\n",
        "\n",
        "> NOTE: Feel free to indicate if this is problematic or not\n",
        "\n",
        "#### 📝 Answer #3:\n",
        "Correct answers are associated with the questions based on whether they include the words we mention MUST be included. This is problematic because it is not a good metric for the quality of the answer. It is possible to have an answer that is not helpful but contains all the words we mention. Conversly, it is possible to have an answer that is helpful but does not contain all the words we mention."
      ]
    },
    {
      "cell_type": "markdown",
      "metadata": {
        "id": "-lRTXUrTtP9Y"
      },
      "source": [
        "### Task 2: Adding Evaluators\n",
        "\n",
        "Now we can add a custom evaluator to see if our responses contain the expected information.\n",
        "\n",
        "We'll be using a fairly naive exact-match process to determine if our response contains specific strings."
      ]
    },
    {
      "cell_type": "code",
      "execution_count": 25,
      "metadata": {
        "id": "QrAUXMFftlAY"
      },
      "outputs": [],
      "source": [
        "from langsmith.evaluation import EvaluationResult, run_evaluator\n",
        "\n",
        "@run_evaluator\n",
        "def must_mention(run, example) -> EvaluationResult:\n",
        "    prediction = run.outputs.get(\"output\") or \"\"\n",
        "    required = example.outputs.get(\"must_mention\") or []\n",
        "    score = all(phrase in prediction for phrase in required)\n",
        "    return EvaluationResult(key=\"must_mention\", score=score)"
      ]
    },
    {
      "cell_type": "markdown",
      "metadata": {
        "id": "PNtHORUh0jZY"
      },
      "source": [
        "#### ❓ Question #4:\n",
        "\n",
        "What are some ways you could improve this metric as-is?\n",
        "\n",
        "> NOTE: Alternatively you can suggest where gaps exist in this method.\n",
        "\n",
        "#### 📝 Answer #4:\n",
        "Basically, to improve this metric we need to use a more sophisticated method that takes into account the quality of the answer, not just the presence of the words we mention. A few ways to do this:\n",
        "\n",
        "1. Create longer lists of words to mention. Score answers based on how many words are mentioned. (probably similar drawbacks)\n",
        "2. Create embeddings based on lists of words you'd like to mention. Score answers based on how similar the answer is to the embeddings.\n",
        "3. AI as judge. Pass the question, answer, and list of words to an LLM and ask it if the answer is helpful (i.e. answer the question).\n",
        "\n",
        "\n"
      ]
    },
    {
      "cell_type": "markdown",
      "metadata": {
        "id": "r1RJr349zhv7"
      },
      "source": [
        "Task 3: Evaluating\n",
        "\n",
        "All that is left to do is evaluate our agent's response!"
      ]
    },
    {
      "cell_type": "code",
      "execution_count": 26,
      "metadata": {
        "colab": {
          "base_uri": "https://localhost:8080/",
          "height": 118,
          "referenced_widgets": [
            "efcf57067cf743d8b4ce059a61cbe02e",
            "53e33aae3b97490c82aec7bbb0d6ebba",
            "ad84e0e971d3455db2efe7dd0d1f803e",
            "72adef9b70dd48198b7322b6c5b113cf",
            "8a61d045ffd44ac58f3f13eb10044836",
            "041e22a9b5514e36bd4d1dac01d5d398",
            "886d762f2a7c421382efb5502c6d42a1",
            "ab91fd625bbd43afbf8c6398193a88d0",
            "716557ad09874dcb989d75f7c74424cd",
            "77d4c0ebaae045b58efc4f789c9a2360",
            "0d622ccc56264fac8fd7508dbdbe6e29"
          ]
        },
        "id": "p5TeCUUkuGld",
        "outputId": "2f7d62a2-e78d-447a-d07b-f9e4d500fb79"
      },
      "outputs": [
        {
          "name": "stdout",
          "output_type": "stream",
          "text": [
            "View the evaluation results for experiment: 'RAG Pipeline - Evaluation - 86a1-0d77f01d' at:\n",
            "https://smith.langchain.com/o/a4d66ce1-dcf4-5067-a004-3babdd93af56/datasets/afeac3ee-dea6-4d90-9198-06bf80efa631/compare?selectedSessions=760e183a-2913-4b9f-9526-974aed85ce7e\n",
            "\n",
            "\n"
          ]
        },
        {
          "data": {
            "application/vnd.jupyter.widget-view+json": {
              "model_id": "d5b41882bedc404993171845a7667fe7",
              "version_major": 2,
              "version_minor": 0
            },
            "text/plain": [
              "0it [00:00, ?it/s]"
            ]
          },
          "metadata": {},
          "output_type": "display_data"
        }
      ],
      "source": [
        "experiment_results = client.evaluate(\n",
        "    agent_chain,\n",
        "    data=dataset_name,\n",
        "    evaluators=[must_mention],\n",
        "    experiment_prefix=f\"RAG Pipeline - Evaluation - {uuid4().hex[0:4]}\",\n",
        "    metadata={\"version\": \"1.0.0\"},\n",
        ")"
      ]
    },
    {
      "cell_type": "code",
      "execution_count": 27,
      "metadata": {
        "colab": {
          "base_uri": "https://localhost:8080/",
          "height": 342
        },
        "id": "eeEqU7s05Byu",
        "outputId": "78395075-a05d-4ebd-c798-ed968b935318"
      },
      "outputs": [
        {
          "data": {
            "text/html": [
              "<ExperimentResults RAG Pipeline - Evaluation - 86a1-0d77f01d>"
            ],
            "text/plain": [
              "<ExperimentResults RAG Pipeline - Evaluation - 86a1-0d77f01d>"
            ]
          },
          "execution_count": 27,
          "metadata": {},
          "output_type": "execute_result"
        }
      ],
      "source": [
        "experiment_results"
      ]
    },
    {
      "cell_type": "markdown",
      "metadata": {
        "id": "jhTNe4kWrplB"
      },
      "source": [
        "## Part 2: LangGraph with Helpfulness:"
      ]
    },
    {
      "cell_type": "markdown",
      "metadata": {
        "id": "w1wKRddbIY_S"
      },
      "source": [
        "### Task 3: Adding Helpfulness Check and \"Loop\" Limits\n",
        "\n",
        "Now that we've done evaluation - let's see if we can add an extra step where we review the content we've generated to confirm if it fully answers the user's query!\n",
        "\n",
        "We're going to make a few key adjustments to account for this:\n",
        "\n",
        "1. We're going to add an artificial limit on how many \"loops\" the agent can go through - this will help us to avoid the potential situation where we never exit the loop.\n",
        "2. We'll add to our existing conditional edge to obtain the behaviour we desire."
      ]
    },
    {
      "cell_type": "markdown",
      "metadata": {
        "id": "npTYJ8ayR5B3"
      },
      "source": [
        "First, let's define our state again - we can check the length of the state object, so we don't need additional state for this."
      ]
    },
    {
      "cell_type": "code",
      "execution_count": 28,
      "metadata": {
        "id": "-LQ84YhyJG0w"
      },
      "outputs": [],
      "source": [
        "class AgentState(TypedDict):\n",
        "  messages: Annotated[list, add_messages]"
      ]
    },
    {
      "cell_type": "markdown",
      "metadata": {
        "id": "sD7EV0HqSQcb"
      },
      "source": [
        "Now we can set our graph up! This process will be almost entirely the same - with the inclusion of one additional node/conditional edge!"
      ]
    },
    {
      "cell_type": "markdown",
      "metadata": {
        "id": "oajBwLkFVi1N"
      },
      "source": [
        "#### 🏗️ Activity #5:\n",
        "\n",
        "Please write markdown for the following cells to explain what each is doing."
      ]
    },
    {
      "cell_type": "markdown",
      "metadata": {
        "id": "M6rN7feNVn9f"
      },
      "source": [
        "Creating two new nodes in a blank state graph: agent and action."
      ]
    },
    {
      "cell_type": "code",
      "execution_count": 29,
      "metadata": {
        "colab": {
          "base_uri": "https://localhost:8080/"
        },
        "id": "6r6XXA5FJbVf",
        "outputId": "ff713041-e498-4f0f-a875-a03502b87729"
      },
      "outputs": [
        {
          "data": {
            "text/plain": [
              "<langgraph.graph.state.StateGraph at 0x11a519f90>"
            ]
          },
          "execution_count": 29,
          "metadata": {},
          "output_type": "execute_result"
        }
      ],
      "source": [
        "graph_with_helpfulness_check = StateGraph(AgentState)\n",
        "\n",
        "graph_with_helpfulness_check.add_node(\"agent\", call_model)\n",
        "graph_with_helpfulness_check.add_node(\"action\", tool_node)"
      ]
    },
    {
      "cell_type": "markdown",
      "metadata": {
        "id": "XZ22o2mWVrfp"
      },
      "source": [
        "Indicating that the input that the system should be handling will be passed to the agent node."
      ]
    },
    {
      "cell_type": "code",
      "execution_count": 30,
      "metadata": {
        "colab": {
          "base_uri": "https://localhost:8080/"
        },
        "id": "HNWHwWxuRiLY",
        "outputId": "295f5a35-ceff-452a-ffb8-c52eada6a816"
      },
      "outputs": [
        {
          "data": {
            "text/plain": [
              "<langgraph.graph.state.StateGraph at 0x11a519f90>"
            ]
          },
          "execution_count": 30,
          "metadata": {},
          "output_type": "execute_result"
        }
      ],
      "source": [
        "graph_with_helpfulness_check.set_entry_point(\"agent\")"
      ]
    },
    {
      "cell_type": "markdown",
      "metadata": {
        "id": "rsXeF6xlaXOZ"
      },
      "source": [
        "Creates a function `tool_call_or_helpful` that uses an LLM as a judge to determine if the answer is helpful or not if the last message was not a tool call. Otherwise, it returns the action node."
      ]
    },
    {
      "cell_type": "code",
      "execution_count": 34,
      "metadata": {
        "id": "z_Sq3A9SaV1O"
      },
      "outputs": [],
      "source": [
        "from langchain_core.prompts import PromptTemplate\n",
        "from langchain_core.output_parsers import StrOutputParser\n",
        "\n",
        "def tool_call_or_helpful(state):\n",
        "  last_message = state[\"messages\"][-1]\n",
        "\n",
        "  if last_message.tool_calls:\n",
        "    return \"action\"\n",
        "\n",
        "  initial_query = state[\"messages\"][0]\n",
        "  final_response = state[\"messages\"][-1]\n",
        "\n",
        "  if len(state[\"messages\"]) > 10:\n",
        "    return \"END\"\n",
        "\n",
        "  prompt_template = \"\"\"\\\n",
        "  Given an initial query and a final response, determine if the final response is extremely helpful or not. Please indicate helpfulness with a 'Y' and unhelpfulness as an 'N'.\n",
        "\n",
        "  Initial Query:\n",
        "  {initial_query}\n",
        "\n",
        "  Final Response:\n",
        "  {final_response}\"\"\"\n",
        "\n",
        "  prompt_template = PromptTemplate.from_template(prompt_template)\n",
        "\n",
        "  helpfulness_check_model = ChatOpenAI(model=\"gpt-4\")\n",
        "\n",
        "  helpfulness_chain = prompt_template | helpfulness_check_model | StrOutputParser()\n",
        "\n",
        "  helpfulness_response = helpfulness_chain.invoke({\"initial_query\" : initial_query.content, \"final_response\" : final_response.content})\n",
        "\n",
        "  if \"Y\" in helpfulness_response:\n",
        "    return \"end\"\n",
        "  else:\n",
        "    return \"continue\""
      ]
    },
    {
      "cell_type": "markdown",
      "metadata": {
        "id": "Fz1u9Vf4SHxJ"
      },
      "source": [
        "#### 🏗️ Activity #4:\n",
        "\n",
        "Please write what is happening in our `tool_call_or_helpful` function!\n",
        "\n",
        "#### 📝 Activity Answer #4:\n",
        "\n",
        "The function checks if the last message has a tool call. If it does, it returns the action node. If it doesn't, it uses an LLM to determine if the answer is helpful or not. If the answer is helpful, it returns the end node. If the answer is not helpful, it returns the continue node."
      ]
    },
    {
      "cell_type": "markdown",
      "metadata": {
        "id": "6BhnBW2YVsJO"
      },
      "source": [
        "Add a conditional edge to the graph that uses the `tool_call_or_helpful` function to determine the next node to go to. If the answer is helpful, it goes to the end node. If the answer is not helpful, it goes to the continue node (i.e. return to the current node, agent). If the last message was a tool call, it goes to the action node."
      ]
    },
    {
      "cell_type": "code",
      "execution_count": 35,
      "metadata": {
        "colab": {
          "base_uri": "https://localhost:8080/"
        },
        "id": "aVTKnWMbP_8T",
        "outputId": "7f729b1f-311c-4084-ceaf-0da437900c85"
      },
      "outputs": [
        {
          "data": {
            "text/plain": [
              "<langgraph.graph.state.StateGraph at 0x1401b8190>"
            ]
          },
          "execution_count": 35,
          "metadata": {},
          "output_type": "execute_result"
        }
      ],
      "source": [
        "graph_with_helpfulness_check.add_conditional_edges(\n",
        "    \"agent\",\n",
        "    tool_call_or_helpful,\n",
        "    {\n",
        "        \"continue\" : \"agent\",\n",
        "        \"action\" : \"action\",\n",
        "        \"end\" : END\n",
        "    }\n",
        ")"
      ]
    },
    {
      "cell_type": "markdown",
      "metadata": {
        "id": "ZGDLEWOIVtK0"
      },
      "source": [
        "Add an edge from the action node to the agent node."
      ]
    },
    {
      "cell_type": "code",
      "execution_count": 36,
      "metadata": {
        "colab": {
          "base_uri": "https://localhost:8080/"
        },
        "id": "cbDK2MbuREgU",
        "outputId": "21a64c20-27a1-4e0e-afde-a639abaa8b55"
      },
      "outputs": [
        {
          "data": {
            "text/plain": [
              "<langgraph.graph.state.StateGraph at 0x1401b8190>"
            ]
          },
          "execution_count": 36,
          "metadata": {},
          "output_type": "execute_result"
        }
      ],
      "source": [
        "graph_with_helpfulness_check.add_edge(\"action\", \"agent\")"
      ]
    },
    {
      "cell_type": "markdown",
      "metadata": {
        "id": "rSI8AOaEVvT-"
      },
      "source": [
        "Create graph that we defined above, so that we can use it to answer questions."
      ]
    },
    {
      "cell_type": "code",
      "execution_count": 37,
      "metadata": {
        "id": "oQldl8ERQ8lf"
      },
      "outputs": [],
      "source": [
        "agent_with_helpfulness_check = graph_with_helpfulness_check.compile()"
      ]
    },
    {
      "cell_type": "markdown",
      "metadata": {
        "id": "F67FGCMRVwGz"
      },
      "source": [
        "Invokes the graph with the helpfulness check to answer a question. The response is streamed, meaning that the response is printed as it is generated."
      ]
    },
    {
      "cell_type": "code",
      "execution_count": 38,
      "metadata": {
        "colab": {
          "base_uri": "https://localhost:8080/"
        },
        "id": "B3oo8E-PRK1T",
        "outputId": "f152dea8-96ad-4d29-d8b2-a064c96a8bd3"
      },
      "outputs": [
        {
          "name": "stdout",
          "output_type": "stream",
          "text": [
            "Receiving update from node: 'agent'\n",
            "[AIMessage(content='', additional_kwargs={'tool_calls': [{'id': 'call_NqnGQWCPbf9gclXlNO34JBr6', 'function': {'arguments': '{\"query\": \"LoRA in machine learning\"}', 'name': 'tavily_search_results_json'}, 'type': 'function'}, {'id': 'call_BiKTmJHZTWPUdTViY6R1smQe', 'function': {'arguments': '{\"query\": \"Tim Dettmers\"}', 'name': 'tavily_search_results_json'}, 'type': 'function'}, {'id': 'call_OKP6IPVlhVO7qgVwqg1a0pER', 'function': {'arguments': '{\"query\": \"Attention in machine learning\"}', 'name': 'tavily_search_results_json'}, 'type': 'function'}], 'refusal': None}, response_metadata={'token_usage': {'completion_tokens': 81, 'prompt_tokens': 177, 'total_tokens': 258, 'completion_tokens_details': {'accepted_prediction_tokens': 0, 'audio_tokens': 0, 'reasoning_tokens': 0, 'rejected_prediction_tokens': 0}, 'prompt_tokens_details': {'audio_tokens': 0, 'cached_tokens': 0}}, 'model_name': 'gpt-4o-2024-08-06', 'system_fingerprint': 'fp_4691090a87', 'finish_reason': 'tool_calls', 'logprobs': None}, id='run-37fe5b36-93fe-4651-aefd-2bad526fed53-0', tool_calls=[{'name': 'tavily_search_results_json', 'args': {'query': 'LoRA in machine learning'}, 'id': 'call_NqnGQWCPbf9gclXlNO34JBr6', 'type': 'tool_call'}, {'name': 'tavily_search_results_json', 'args': {'query': 'Tim Dettmers'}, 'id': 'call_BiKTmJHZTWPUdTViY6R1smQe', 'type': 'tool_call'}, {'name': 'tavily_search_results_json', 'args': {'query': 'Attention in machine learning'}, 'id': 'call_OKP6IPVlhVO7qgVwqg1a0pER', 'type': 'tool_call'}], usage_metadata={'input_tokens': 177, 'output_tokens': 81, 'total_tokens': 258, 'input_token_details': {'audio': 0, 'cache_read': 0}, 'output_token_details': {'audio': 0, 'reasoning': 0}})]\n",
            "\n",
            "\n",
            "\n",
            "Receiving update from node: 'action'\n",
            "[ToolMessage(content='[{\"url\": \"https://www.cloudflare.com/learning/ai/what-is-lora/\", \"content\": \"Low-rank adaptation (LoRA) is a way to adapt a large machine learning model for specific uses without retraining the entire model. What is machine learning?Large language models (LLMs)Generative AIWhat is artificial intelligence (AI)?Vector database Low-rank adaptation (LoRA) is a technique for quickly adapting machine learning models to new contexts. LoRA helps make huge and complicated machine learning models much more suited for specific uses. What is a machine learning model? LoRA adds low-rank matrices to the frozen original machine learning model. Low-rank matrices are like those cheap adapters, with the outlets being the original machine learning models.\"}, {\"url\": \"https://www.ibm.com/think/topics/lora\", \"content\": \"LoRA leverages the concept of lower-rank matrices to make the model training process extremely efficient and fast. By leveraging smaller matrices, which are called low-rank matrices, LoRA adapts these models effectively. LoRA adds low-rank matrices to the frozen original machine learning model. This significantly reduces the trainable parameters of the model and the GPU memory requirement for the training process, which is another significant challenge when it comes to fine-tuning or training large models. To implement LoRA fine tuning with HuggingFace using Python and PyTorch, developers can use the parameter-efficient fine-tuning (PEFT) library to inject the LoRA adapters into the model and use them as the update matrices. Removing this resiliency can make models less accurate, so the rank of update matrices can be tuned as a part of the LoRA process.\"}, {\"url\": \"https://arxiv.org/abs/2106.09685\", \"content\": \"cs arXiv:2106.09685 LoRA: Low-Rank Adaptation of Large Language Models Hu, Yelong Shen, Phillip Wallis, Zeyuan Allen-Zhu, Yuanzhi Li, Shean Wang, Lu Wang, Weizhu Chen We propose Low-Rank Adaptation, or LoRA, which freezes the pre-trained model weights and injects trainable rank decomposition matrices into each layer of the Transformer architecture, greatly reducing the number of trainable parameters for downstream tasks. LoRA performs on-par or better than fine-tuning in model quality on RoBERTa, DeBERTa, GPT-2, and GPT-3, despite having fewer trainable parameters, a higher training throughput, and, unlike adapters, no additional inference latency. Subjects:   Computation and Language (cs.CL); Artificial Intelligence (cs.AI); Machine Learning (cs.LG) Cite as:    arXiv:2106.09685 [cs.CL] (or arXiv:2106.09685v2 [cs.CL] for this version) cs Bibliographic and Citation Tools Connected Papers Toggle\"}, {\"url\": \"https://www.datacamp.com/tutorial/mastering-low-rank-adaptation-lora-enhancing-large-language-models-for-efficient-adaptation\", \"content\": \"Natassha Selvaraj\\\\n8 min\\\\nWhat Fortune 1000 Executives Believe about Data & AI in 2024 with Randy Bean, Innovation Fellow, Data Strategy, Wavestone\\\\nRichie Cotton\\\\n46 min\\\\nData Security in the Age of AI with Bart Vandekerckhove, Co-founder at Raito\\\\nRichie Cotton\\\\n46 min\\\\nBuilding Trustworthy AI with Alexandra Ebert, Chief Trust Officer at MOSTLY AI\\\\nRichie Cotton\\\\n50 min\\\\nHow Transformers Work: A Detailed Exploration of Transformer Architecture\\\\nJosep Ferrer\\\\n15 min\\\\nCross-Entropy Loss Function in Machine Learning: Latest news about our products and team\\\\nDiscover content by tools and technology\\\\nDiscover content by data science topics\\\\nMastering Low-Rank Adaptation (LoRA): Enhancing Large Language Models for Efficient Adaptation\\\\nLoRA: Low-Rank Adaptation of Large Language Models\\\\nThe field of machine learning and natural language processing (NLP) has witnessed a remarkable advancement with the introduction of Large Language Models (LLMs) such as GPT, LLaMa, Claude 2, etc. Benefits of pre-fix tuning:\\\\nLoRA and prefix tuning can be combined within the PEFT (Parameter Efficient Fine-Tuning) framework:\\\\nExample of LoRA implementation using Loralib library in Python\\\\nTo implement LoRA, you can use the Loralib library by Microsoft. What Fortune 1000 Executives Believe about Data & AI in 2024 with Randy Bean, Innovation Fellow, Data Strategy, Wavestone\\\\nData Security in the Age of AI with Bart Vandekerckhove, Co-founder at Raito\\\\nBuilding Trustworthy AI with Alexandra Ebert, Chief Trust Officer at MOSTLY AI\\\\nHow Transformers Work: A Detailed Exploration of Transformer Architecture\\\\nCross-Entropy Loss Function in Machine Learning: Advantages of LoRA\\\\nThere are several advantages that come with using LoRA for fine-tuning:\\\\n1. Efficiency in training and deployment\\\\nLoRA reduces the computational burden, allowing faster adaptation of models.\"}, {\"url\": \"https://medium.com/data-science-at-microsoft/understanding-and-implementing-lora-theory-and-practical-code-for-efficient-fine-tuning-cffda1e9ff97\", \"content\": \"Understanding and implementing LoRA: Theory and practical code for efficient fine-tuning | by Yash Khasbage | Data Science at Microsoft | Dec, 2024 | Medium The key idea is that instead of updating all of a model’s parameters during fine-tuning, LoRA introduces low-rank trainable matrices to adjust only a small subset of weights. LoRA resolves this issue by freezing the pre-trained weights of the model and introducing a low-rank trainable approximation to fine-tune the model. When fine-tuning a pre-trained model with LoRA, a trainable low-rank matrix pair (B ⋅ A) is added to the frozen weight matrix W. In conclusion, LoRA enables the fine-tuning of large models in scenarios where computational resources are limited, making it a powerful tool in the era of massive, pre-trained models.\"}]', name='tavily_search_results_json', id='4c063a6d-f382-4b21-9815-fd105e010dde', tool_call_id='call_NqnGQWCPbf9gclXlNO34JBr6', artifact={'query': 'LoRA in machine learning', 'follow_up_questions': None, 'answer': None, 'images': [], 'results': [{'title': 'What is LoRA? | Low-rank adaptation - Cloudflare', 'url': 'https://www.cloudflare.com/learning/ai/what-is-lora/', 'content': 'Low-rank adaptation (LoRA) is a way to adapt a large machine learning model for specific uses without retraining the entire model. What is machine learning?Large language models (LLMs)Generative AIWhat is artificial intelligence (AI)?Vector database Low-rank adaptation (LoRA) is a technique for quickly adapting machine learning models to new contexts. LoRA helps make huge and complicated machine learning models much more suited for specific uses. What is a machine learning model? LoRA adds low-rank matrices to the frozen original machine learning model. Low-rank matrices are like those cheap adapters, with the outlets being the original machine learning models.', 'score': 0.9158166, 'raw_content': None}, {'title': 'What is LoRA (low-rank adaption)? - IBM', 'url': 'https://www.ibm.com/think/topics/lora', 'content': 'LoRA leverages the concept of lower-rank matrices to make the model training process extremely efficient and fast. By leveraging smaller matrices, which are called low-rank matrices, LoRA adapts these models effectively. LoRA adds low-rank matrices to the frozen original machine learning model. This significantly reduces the trainable parameters of the model and the GPU memory requirement for the training process, which is another significant challenge when it comes to fine-tuning or training large models. To implement LoRA fine tuning with HuggingFace using Python and PyTorch, developers can use the parameter-efficient fine-tuning (PEFT) library to inject the LoRA adapters into the model and use them as the update matrices. Removing this resiliency can make models less accurate, so the rank of update matrices can be tuned as a part of the LoRA process.', 'score': 0.902687, 'raw_content': None}, {'title': '[2106.09685] LoRA: Low-Rank Adaptation of Large Language Models - arXiv.org', 'url': 'https://arxiv.org/abs/2106.09685', 'content': 'cs arXiv:2106.09685 LoRA: Low-Rank Adaptation of Large Language Models Hu, Yelong Shen, Phillip Wallis, Zeyuan Allen-Zhu, Yuanzhi Li, Shean Wang, Lu Wang, Weizhu Chen We propose Low-Rank Adaptation, or LoRA, which freezes the pre-trained model weights and injects trainable rank decomposition matrices into each layer of the Transformer architecture, greatly reducing the number of trainable parameters for downstream tasks. LoRA performs on-par or better than fine-tuning in model quality on RoBERTa, DeBERTa, GPT-2, and GPT-3, despite having fewer trainable parameters, a higher training throughput, and, unlike adapters, no additional inference latency. Subjects:   Computation and Language (cs.CL); Artificial Intelligence (cs.AI); Machine Learning (cs.LG) Cite as:    arXiv:2106.09685 [cs.CL] (or arXiv:2106.09685v2 [cs.CL] for this version) cs Bibliographic and Citation Tools Connected Papers Toggle', 'score': 0.84948516, 'raw_content': None}, {'title': 'Mastering Low-Rank Adaptation (LoRA): Enhancing Large ... - DataCamp', 'url': 'https://www.datacamp.com/tutorial/mastering-low-rank-adaptation-lora-enhancing-large-language-models-for-efficient-adaptation', 'content': 'Natassha Selvaraj\\n8 min\\nWhat Fortune 1000 Executives Believe about Data & AI in 2024 with Randy Bean, Innovation Fellow, Data Strategy, Wavestone\\nRichie Cotton\\n46 min\\nData Security in the Age of AI with Bart Vandekerckhove, Co-founder at Raito\\nRichie Cotton\\n46 min\\nBuilding Trustworthy AI with Alexandra Ebert, Chief Trust Officer at MOSTLY AI\\nRichie Cotton\\n50 min\\nHow Transformers Work: A Detailed Exploration of Transformer Architecture\\nJosep Ferrer\\n15 min\\nCross-Entropy Loss Function in Machine Learning: Latest news about our products and team\\nDiscover content by tools and technology\\nDiscover content by data science topics\\nMastering Low-Rank Adaptation (LoRA): Enhancing Large Language Models for Efficient Adaptation\\nLoRA: Low-Rank Adaptation of Large Language Models\\nThe field of machine learning and natural language processing (NLP) has witnessed a remarkable advancement with the introduction of Large Language Models (LLMs) such as GPT, LLaMa, Claude 2, etc. Benefits of pre-fix tuning:\\nLoRA and prefix tuning can be combined within the PEFT (Parameter Efficient Fine-Tuning) framework:\\nExample of LoRA implementation using Loralib library in Python\\nTo implement LoRA, you can use the Loralib library by Microsoft. What Fortune 1000 Executives Believe about Data & AI in 2024 with Randy Bean, Innovation Fellow, Data Strategy, Wavestone\\nData Security in the Age of AI with Bart Vandekerckhove, Co-founder at Raito\\nBuilding Trustworthy AI with Alexandra Ebert, Chief Trust Officer at MOSTLY AI\\nHow Transformers Work: A Detailed Exploration of Transformer Architecture\\nCross-Entropy Loss Function in Machine Learning: Advantages of LoRA\\nThere are several advantages that come with using LoRA for fine-tuning:\\n1. Efficiency in training and deployment\\nLoRA reduces the computational burden, allowing faster adaptation of models.', 'score': 0.8127637, 'raw_content': None}, {'title': 'Understanding and implementing LoRA: Theory and practical code ... - Medium', 'url': 'https://medium.com/data-science-at-microsoft/understanding-and-implementing-lora-theory-and-practical-code-for-efficient-fine-tuning-cffda1e9ff97', 'content': 'Understanding and implementing LoRA: Theory and practical code for efficient fine-tuning | by Yash Khasbage | Data Science at Microsoft | Dec, 2024 | Medium The key idea is that instead of updating all of a model’s parameters during fine-tuning, LoRA introduces low-rank trainable matrices to adjust only a small subset of weights. LoRA resolves this issue by freezing the pre-trained weights of the model and introducing a low-rank trainable approximation to fine-tune the model. When fine-tuning a pre-trained model with LoRA, a trainable low-rank matrix pair (B ⋅ A) is added to the frozen weight matrix W. In conclusion, LoRA enables the fine-tuning of large models in scenarios where computational resources are limited, making it a powerful tool in the era of massive, pre-trained models.', 'score': 0.8124067, 'raw_content': None}], 'response_time': 1.51}), ToolMessage(content='[{\"url\": \"https://timdettmers.com/about/\", \"content\": \"Tim Dettmers is a research scientist at Ai2 and an incoming assistant professor at CMU. He works on efficient deep learning methods, such as quantization, sparsity, and low-bit inference.\"}, {\"url\": \"https://timdettmers.com/\", \"content\": \"Tim Dettmers is a researcher and teacher in deep learning and natural language processing. His blog covers topics such as hardware, quantization, sparse networks, creativity, and grad school choices.\"}, {\"url\": \"https://ai2050.schmidtsciences.org/fellow/tim-dettmers/\", \"content\": \"Tim Dettmers is an Assistant Professor at Carnegie Mellon University and a Research Scientist at the Allen Institute for AI, and his research focuses on making foundation models, such as ChatGPT, accessible to researchers and practitioners by reducing their resource requirements. AI models like ChatGPT work well for general use but fail in specialized expert domains, such as the medical sciences. To make AI models work in expert domains, one must adapt them, which is costly and requires significant AI expertise. This project overcomes these cost and expertise barriers through two new approaches: (1) use AI models themselves to perform the AI model adaptation process automatically; (2) make the adaptation process cheap so it can be run on regular consumer hardware.\"}, {\"url\": \"https://developer.nvidia.com/blog/author/tdettmers/\", \"content\": \"Tim Dettmers is a masters student in informatics at the University of Lugano where he works on deep learning research. Before that he studied applied mathematics and worked for three years as a software engineer in the automation industry.\"}, {\"url\": \"https://scholar.google.com/citations?user=lHI3w5kAAAAJ&hl=en\", \"content\": \"Tim Dettmers. Allen Institute for AI; Carnegie Mellon University. Verified email at allenai.org - Homepage. ... T Dettmers, R Svirschevski, V Egiazarian, D Kuznedelev, E Frantar, ... arXiv preprint arXiv:2306.03078, 2023. 194: 2023: The case for 4-bit precision: k-bit inference scaling laws.\"}]', name='tavily_search_results_json', id='74ae98c7-0617-4299-a1c7-7c8ad9e6987e', tool_call_id='call_BiKTmJHZTWPUdTViY6R1smQe', artifact={'query': 'Tim Dettmers', 'follow_up_questions': None, 'answer': None, 'images': [], 'results': [{'title': 'About Me — Tim Dettmers', 'url': 'https://timdettmers.com/about/', 'content': 'Tim Dettmers is a research scientist at Ai2 and an incoming assistant professor at CMU. He works on efficient deep learning methods, such as quantization, sparsity, and low-bit inference.', 'score': 0.9407083, 'raw_content': None}, {'title': 'Tim Dettmers — Making deep learning accessible.', 'url': 'https://timdettmers.com/', 'content': 'Tim Dettmers is a researcher and teacher in deep learning and natural language processing. His blog covers topics such as hardware, quantization, sparse networks, creativity, and grad school choices.', 'score': 0.9405774, 'raw_content': None}, {'title': 'Tim Dettmers - AI2050', 'url': 'https://ai2050.schmidtsciences.org/fellow/tim-dettmers/', 'content': 'Tim Dettmers is an Assistant Professor at Carnegie Mellon University and a Research Scientist at the Allen Institute for AI, and his research focuses on making foundation models, such as ChatGPT, accessible to researchers and practitioners by reducing their resource requirements. AI models like ChatGPT work well for general use but fail in specialized expert domains, such as the medical sciences. To make AI models work in expert domains, one must adapt them, which is costly and requires significant AI expertise. This project overcomes these cost and expertise barriers through two new approaches: (1) use AI models themselves to perform the AI model adaptation process automatically; (2) make the adaptation process cheap so it can be run on regular consumer hardware.', 'score': 0.9263638, 'raw_content': None}, {'title': 'Author: Tim Dettmers | NVIDIA Technical Blog - NVIDIA Developer', 'url': 'https://developer.nvidia.com/blog/author/tdettmers/', 'content': 'Tim Dettmers is a masters student in informatics at the University of Lugano where he works on deep learning research. Before that he studied applied mathematics and worked for three years as a software engineer in the automation industry.', 'score': 0.9170729, 'raw_content': None}, {'title': '\\u202aTim Dettmers\\u202c - \\u202aGoogle Scholar\\u202c', 'url': 'https://scholar.google.com/citations?user=lHI3w5kAAAAJ&hl=en', 'content': 'Tim Dettmers. Allen Institute for AI; Carnegie Mellon University. Verified email at allenai.org - Homepage. ... T Dettmers, R Svirschevski, V Egiazarian, D Kuznedelev, E Frantar, ... arXiv preprint arXiv:2306.03078, 2023. 194: 2023: The case for 4-bit precision: k-bit inference scaling laws.', 'score': 0.66569364, 'raw_content': None}], 'response_time': 1.67}), ToolMessage(content='[{\"url\": \"https://machinelearningmastery.com/what-is-attention/\", \"content\": \"The human brain does so by relying on attention, such that it dynamically stores in memory the information that the human subject most pays attention to.\\\\nAttention in Machine Learning\\\\nImplementing the attention mechanism in artificial neural networks does not necessarily track the biological and psychological mechanisms of the human brain. A list of these vectors (the second component of the attention-based system above), together with the decoder’s previous hidden states, will be exploited by the attention mechanism to dynamically highlight which of the input information will be used to generate the output.\\\\n LinkedIn |\\\\nTwitter |\\\\nFacebook |\\\\nNewsletter |\\\\nRSS\\\\nPrivacy |\\\\nDisclaimer |\\\\nTerms |\\\\nContact |\\\\nSitemap |\\\\nSearch Instead, it is the ability to dynamically highlight and use the salient parts of the information at hand—in a similar manner as it does in the human brain—that makes attention such an attractive concept in machine learning.\\\\n At each time step, the attention mechanism then takes the previous hidden state of the decoder and the list of encoded vectors, using them to generate unnormalized score values that indicate how well the elements of the input sequence align with the current output.\"}, {\"url\": \"https://www.freecodecamp.org/news/what-are-attention-mechanisms-in-deep-learning/\", \"content\": \"Attention mechanism is a fundamental invention in artificial intelligence and machine learning, redefining the capabilities of deep learning models. This mechanism, inspired by the human mental process of selective focus, has emerged as a pillar in a variety of applications, accelerating developments in natural language processing, computer\"}, {\"url\": \"https://pmc.ncbi.nlm.nih.gov/articles/PMC7996841/\", \"content\": \"Keywords: attention, deep learning, complex and dynamical systems, self-attention, neural networks, sequential reasoning The combination of deep neural networks and the computational capabilities of Graphics Processing Units (GPUs) [1] has brought a breakthrough to the field of machine learning, improving the performance of several tasks such as image recognition, machine translation, language modelling, time series prediction, etc. Here, as shown in Table 1, we describe the evolution of machine learning techniques and demonstrate how attention mechanisms, in combination with classic models, allow modeling certain important characteristics of complex systems, e.g., sequential reasoning, integration of different parts and long term dependencies.\"}, {\"url\": \"https://en.wikipedia.org/wiki/Attention_(machine_learning)\", \"content\": \"Note that the context vector for \\\\\"that\\\\\" does not rely on context vectors for the other words; therefore the context vectors of all words can be calculated using the whole matrix X, which includes all the word embeddings, instead of a single word\\'s embedding vector x in the formula above, thus parallelizing the calculations. More correctly, we should take the transpose of the context vector and use the column-wise softmax, resulting in the more correct form\\\\nThe query vector is compared (via dot product) with each word in the keys. The structure of the input data is captured in the Qw and Kw weights, and the Vw weights express that structure in terms of more meaningful features for the task being trained for.\\\\n On the first pass through the decoder, 94% of the attention weight is on the first English word \\\\\"I\\\\\", so the network offers the word \\\\\"je\\\\\".\\\\n Multiplying this against the value matrix effectively amplifies the signal for the most important words in the sentence and diminishes the signal for less important words.[9]\\\\n\"}, {\"url\": \"https://medium.com/@zhonghong9998/attention-mechanisms-in-deep-learning-enhancing-model-performance-32a91006092a\", \"content\": \"An Attention Mechanism in deep learning simulates the human cognitive process of selective focus. It enables neural networks to assign varying degrees of importance to different parts of input\"}]', name='tavily_search_results_json', id='ba8a03f0-a0a8-491f-81d7-a0582c5c7633', tool_call_id='call_OKP6IPVlhVO7qgVwqg1a0pER', artifact={'query': 'Attention in machine learning', 'follow_up_questions': None, 'answer': None, 'images': [], 'results': [{'title': 'What Is Attention? - MachineLearningMastery.com', 'url': 'https://machinelearningmastery.com/what-is-attention/', 'content': 'The human brain does so by relying on attention, such that it dynamically stores in memory the information that the human subject most pays attention to.\\nAttention in Machine Learning\\nImplementing the attention mechanism in artificial neural networks does not necessarily track the biological and psychological mechanisms of the human brain. A list of these vectors (the second component of the attention-based system above), together with the decoder’s previous hidden states, will be exploited by the attention mechanism to dynamically highlight which of the input information will be used to generate the output.\\n LinkedIn |\\nTwitter |\\nFacebook |\\nNewsletter |\\nRSS\\nPrivacy |\\nDisclaimer |\\nTerms |\\nContact |\\nSitemap |\\nSearch Instead, it is the ability to dynamically highlight and use the salient parts of the information at hand—in a similar manner as it does in the human brain—that makes attention such an attractive concept in machine learning.\\n At each time step, the attention mechanism then takes the previous hidden state of the decoder and the list of encoded vectors, using them to generate unnormalized score values that indicate how well the elements of the input sequence align with the current output.', 'score': 0.902481, 'raw_content': None}, {'title': 'What are Attention Mechanisms in Deep Learning? - freeCodeCamp.org', 'url': 'https://www.freecodecamp.org/news/what-are-attention-mechanisms-in-deep-learning/', 'content': 'Attention mechanism is a fundamental invention in artificial intelligence and machine learning, redefining the capabilities of deep learning models. This mechanism, inspired by the human mental process of selective focus, has emerged as a pillar in a variety of applications, accelerating developments in natural language processing, computer', 'score': 0.8674071, 'raw_content': None}, {'title': 'Attention Mechanisms and Their Applications to Complex Systems', 'url': 'https://pmc.ncbi.nlm.nih.gov/articles/PMC7996841/', 'content': 'Keywords: attention, deep learning, complex and dynamical systems, self-attention, neural networks, sequential reasoning The combination of deep neural networks and the computational capabilities of Graphics Processing Units (GPUs) [1] has brought a breakthrough to the field of machine learning, improving the performance of several tasks such as image recognition, machine translation, language modelling, time series prediction, etc. Here, as shown in Table 1, we describe the evolution of machine learning techniques and demonstrate how attention mechanisms, in combination with classic models, allow modeling certain important characteristics of complex systems, e.g., sequential reasoning, integration of different parts and long term dependencies.', 'score': 0.8473754, 'raw_content': None}, {'title': 'Attention (machine learning) - Wikipedia', 'url': 'https://en.wikipedia.org/wiki/Attention_(machine_learning)', 'content': 'Note that the context vector for \"that\" does not rely on context vectors for the other words; therefore the context vectors of all words can be calculated using the whole matrix X, which includes all the word embeddings, instead of a single word\\'s embedding vector x in the formula above, thus parallelizing the calculations. More correctly, we should take the transpose of the context vector and use the column-wise softmax, resulting in the more correct form\\nThe query vector is compared (via dot product) with each word in the keys. The structure of the input data is captured in the Qw and Kw weights, and the Vw weights express that structure in terms of more meaningful features for the task being trained for.\\n On the first pass through the decoder, 94% of the attention weight is on the first English word \"I\", so the network offers the word \"je\".\\n Multiplying this against the value matrix effectively amplifies the signal for the most important words in the sentence and diminishes the signal for less important words.[9]\\n', 'score': 0.71425, 'raw_content': None}, {'title': 'Attention Mechanisms in Deep Learning: Enhancing Model Performance', 'url': 'https://medium.com/@zhonghong9998/attention-mechanisms-in-deep-learning-enhancing-model-performance-32a91006092a', 'content': 'An Attention Mechanism in deep learning simulates the human cognitive process of selective focus. It enables neural networks to assign varying degrees of importance to different parts of input', 'score': 0.6693348, 'raw_content': None}], 'response_time': 1.55})]\n",
            "\n",
            "\n",
            "\n",
            "Receiving update from node: 'agent'\n",
            "[AIMessage(content=\"### LoRA in Machine Learning\\nLoRA, or Low-Rank Adaptation, is a technique used to adapt large machine learning models for specific tasks without retraining the entire model. It involves adding low-rank matrices to the frozen original model, which significantly reduces the number of trainable parameters and the computational resources required. This method is particularly useful for fine-tuning large language models like GPT-2 and GPT-3, allowing for efficient adaptation with fewer resources. LoRA maintains model quality while reducing the computational burden, making it a powerful tool for adapting models in resource-constrained environments.\\n\\n- [Cloudflare on LoRA](https://www.cloudflare.com/learning/ai/what-is-lora/)\\n- [IBM on LoRA](https://www.ibm.com/think/topics/lora)\\n- [Arxiv Paper on LoRA](https://arxiv.org/abs/2106.09685)\\n\\n### Tim Dettmers\\nTim Dettmers is a research scientist at the Allen Institute for AI and an incoming assistant professor at Carnegie Mellon University. His work focuses on efficient deep learning methods, including quantization, sparsity, and low-bit inference. He aims to make AI models more accessible by reducing their resource requirements, particularly in specialized domains like medical sciences. Dettmers is known for his contributions to making foundation models like ChatGPT more adaptable and efficient.\\n\\n- [Tim Dettmers' About Page](https://timdettmers.com/about/)\\n- [AI2050 Profile](https://ai2050.schmidtsciences.org/fellow/tim-dettmers/)\\n\\n### Attention in Machine Learning\\nAttention mechanisms in machine learning are inspired by the human cognitive process of selective focus. They allow neural networks to dynamically highlight and use the most relevant parts of the input data, improving the performance of models in tasks like natural language processing and image recognition. Attention mechanisms are fundamental in deep learning, enabling models to handle complex tasks by focusing on important features and long-term dependencies within the data.\\n\\n- [Machine Learning Mastery on Attention](https://machinelearningmastery.com/what-is-attention/)\\n- [FreeCodeCamp on Attention Mechanisms](https://www.freecodecamp.org/news/what-are-attention-mechanisms-in-deep-learning/)\\n- [Wikipedia on Attention in Machine Learning](https://en.wikipedia.org/wiki/Attention_(machine_learning))\", additional_kwargs={'refusal': None}, response_metadata={'token_usage': {'completion_tokens': 481, 'prompt_tokens': 2829, 'total_tokens': 3310, 'completion_tokens_details': {'accepted_prediction_tokens': 0, 'audio_tokens': 0, 'reasoning_tokens': 0, 'rejected_prediction_tokens': 0}, 'prompt_tokens_details': {'audio_tokens': 0, 'cached_tokens': 0}}, 'model_name': 'gpt-4o-2024-08-06', 'system_fingerprint': 'fp_4691090a87', 'finish_reason': 'stop', 'logprobs': None}, id='run-12ea66fd-8118-4a85-a215-bb1fd6ff7512-0', usage_metadata={'input_tokens': 2829, 'output_tokens': 481, 'total_tokens': 3310, 'input_token_details': {'audio': 0, 'cache_read': 0}, 'output_token_details': {'audio': 0, 'reasoning': 0}})]\n",
            "\n",
            "\n",
            "\n"
          ]
        }
      ],
      "source": [
        "inputs = {\"messages\" : [HumanMessage(content=\"Related to machine learning, what is LoRA? Also, who is Tim Dettmers? Also, what is Attention?\")]}\n",
        "\n",
        "async for chunk in agent_with_helpfulness_check.astream(inputs, stream_mode=\"updates\"):\n",
        "    for node, values in chunk.items():\n",
        "        print(f\"Receiving update from node: '{node}'\")\n",
        "        print(values[\"messages\"])\n",
        "        print(\"\\n\\n\")"
      ]
    },
    {
      "cell_type": "markdown",
      "metadata": {
        "id": "yVmZPs6lnpsM"
      },
      "source": [
        "### Task 4: LangGraph for the \"Patterns\" of GenAI\n",
        "\n",
        "Let's ask our system about the 4 patterns of Generative AI:\n",
        "\n",
        "1. Prompt Engineering\n",
        "2. RAG\n",
        "3. Fine-tuning\n",
        "4. Agents"
      ]
    },
    {
      "cell_type": "code",
      "execution_count": 39,
      "metadata": {
        "id": "ZoLl7GlXoae-"
      },
      "outputs": [],
      "source": [
        "patterns = [\"prompt engineering\", \"RAG\", \"fine-tuning\", \"LLM-based agents\"]"
      ]
    },
    {
      "cell_type": "code",
      "execution_count": 40,
      "metadata": {
        "colab": {
          "base_uri": "https://localhost:8080/"
        },
        "id": "Zkh0YJuCp3Zl",
        "outputId": "d847426e-71b3-47e6-b1ae-351a78d68d1e"
      },
      "outputs": [
        {
          "name": "stdout",
          "output_type": "stream",
          "text": [
            "**Prompt Engineering: Definition and History**\n",
            "\n",
            "**Definition:**\n",
            "Prompt engineering is the process of designing inputs for generative artificial intelligence (AI) models to deliver useful, accurate, and relevant responses. It is primarily used with large language models (LLMs) like OpenAI's ChatGPT and Google Gemini. The goal is to optimize the output from these models by crafting well-engineered prompts, which can lead to improved results and efficiency. This practice is crucial in fields such as customer support, content generation, and data analysis, where minimizing bias and maximizing relevance in AI outputs are essential.\n",
            "\n",
            "**History:**\n",
            "The history of prompt engineering is intertwined with the development of language models and AI. Initially, prompts were simple, but as LLMs like GPT-3 became more complex, prompt engineering evolved to meet the demands of these advanced systems. Key developments include:\n",
            "\n",
            "- **Early Language Models:** The journey began with basic language models and information retrieval systems.\n",
            "- **Introduction of Attention Mechanisms (2015):** This revolutionized prompt engineering by enhancing the contextual understanding of language models.\n",
            "- **Rise of Massive Language Models (2020-2021):** Models like GPT-3 transformed prompt engineering, allowing for greater adaptability and domain-specific tailoring.\n",
            "- **Advanced Prompting Techniques (2022-2023):** Techniques such as multimodal prompting have expanded the capabilities of language models, enhancing their versatility and interactive capabilities.\n",
            "\n",
            "Prompt engineering continues to evolve, driven by advancements in AI and the increasing complexity of language models. It plays a critical role in shaping the future of human-AI interaction.\n",
            "\n",
            "\n",
            "\n",
            "Retrieval-Augmented Generation (RAG) is a technology that combines retrieval-based methods with generative models to enhance the quality and relevance of generated content. It aims to address the drawbacks of Large Language Models (LLMs) by incorporating factual information during response generation, thus mitigating issues such as knowledge cutoff and response hallucination. RAG systems are designed to provide more accurate and contextually appropriate responses by retrieving relevant information from knowledge bases or past interactions.\n",
            "\n",
            "RAG has been gaining attention for its potential to revolutionize AI, with significant advancements expected in 2024. The technology has been evolving to meet the increasing demands of application scenarios, leading to the integration of advanced retrievers, LLMs, and other complementary technologies. This evolution has resulted in more complex RAG systems, prompting the development of modular frameworks to enhance reconfigurability and efficiency.\n",
            "\n",
            "The concept of RAG has been discussed in various research papers, with studies focusing on improving knowledge-based question-answering systems and addressing issues like hallucination in language models. The introduction of RAG has marked a significant enhancement in the capabilities of LLMs, particularly in tackling knowledge-intensive tasks.\n",
            "\n",
            "\n",
            "\n",
            "Fine-tuning is a process in machine learning where a pre-trained model is further trained on a smaller, task-specific dataset. This allows the model to adapt to specific tasks while leveraging the general knowledge it gained during the initial training phase. Fine-tuning is particularly useful because it requires less data and computational resources compared to training a model from scratch, and it often results in better performance on the specific task.\n",
            "\n",
            "Fine-tuning became prominent with the rise of transfer learning and the development of large pre-trained models, especially in the field of natural language processing (NLP). One of the key moments for fine-tuning was the introduction of models like BERT (Bidirectional Encoder Representations from Transformers) by Google in 2018. BERT demonstrated that fine-tuning a large, pre-trained language model on specific tasks could achieve state-of-the-art results across a variety of NLP benchmarks. This approach has since been widely adopted in other areas of AI and machine learning.\n",
            "\n",
            "\n",
            "\n",
            "LLM-based agents, or Large Language Model-based agents, are intelligent systems that leverage large language models to interpret instructions, perform tasks, and interact with their environment using natural language inputs. These agents have emerged as a groundbreaking technology due to their unparalleled text generation capabilities across various applications. They significantly outperform earlier agents based on rules or reinforcement learning, thanks to their generality and few-shot learning capabilities.\n",
            "\n",
            "The evolution of LLM-based agents can be traced back to earlier AI systems like symbolic AI agents, such as ELIZA in 1966, which were limited in scope. Modern LLM agents utilize large language models for versatile text-based interaction, enabling decision-making across domains. They have become scalable solutions for complex problem-solving in areas like software engineering, scientific discovery, and web automation.\n",
            "\n",
            "The rise of LLM agents has been a significant development in AI, with their introduction and evolution occurring over the past few years, particularly gaining momentum with advancements in large language models like GPT-3 and beyond.\n",
            "\n",
            "\n",
            "\n"
          ]
        }
      ],
      "source": [
        "for pattern in patterns:\n",
        "  what_is_string = f\"What is {pattern} and when did it break onto the scene??\"\n",
        "  inputs = {\"messages\" : [HumanMessage(content=what_is_string)]}\n",
        "  messages = agent_with_helpfulness_check.invoke(inputs)\n",
        "  print(messages[\"messages\"][-1].content)\n",
        "  print(\"\\n\\n\")"
      ]
    },
    {
      "cell_type": "code",
      "execution_count": null,
      "metadata": {},
      "outputs": [],
      "source": []
    }
  ],
  "metadata": {
    "colab": {
      "provenance": []
    },
    "kernelspec": {
      "display_name": ".venv",
      "language": "python",
      "name": "python3"
    },
    "language_info": {
      "codemirror_mode": {
        "name": "ipython",
        "version": 3
      },
      "file_extension": ".py",
      "mimetype": "text/x-python",
      "name": "python",
      "nbconvert_exporter": "python",
      "pygments_lexer": "ipython3",
      "version": "3.13.1"
    },
    "widgets": {
      "application/vnd.jupyter.widget-state+json": {
        "041e22a9b5514e36bd4d1dac01d5d398": {
          "model_module": "@jupyter-widgets/base",
          "model_module_version": "1.2.0",
          "model_name": "LayoutModel",
          "state": {
            "_model_module": "@jupyter-widgets/base",
            "_model_module_version": "1.2.0",
            "_model_name": "LayoutModel",
            "_view_count": null,
            "_view_module": "@jupyter-widgets/base",
            "_view_module_version": "1.2.0",
            "_view_name": "LayoutView",
            "align_content": null,
            "align_items": null,
            "align_self": null,
            "border": null,
            "bottom": null,
            "display": null,
            "flex": null,
            "flex_flow": null,
            "grid_area": null,
            "grid_auto_columns": null,
            "grid_auto_flow": null,
            "grid_auto_rows": null,
            "grid_column": null,
            "grid_gap": null,
            "grid_row": null,
            "grid_template_areas": null,
            "grid_template_columns": null,
            "grid_template_rows": null,
            "height": null,
            "justify_content": null,
            "justify_items": null,
            "left": null,
            "margin": null,
            "max_height": null,
            "max_width": null,
            "min_height": null,
            "min_width": null,
            "object_fit": null,
            "object_position": null,
            "order": null,
            "overflow": null,
            "overflow_x": null,
            "overflow_y": null,
            "padding": null,
            "right": null,
            "top": null,
            "visibility": null,
            "width": null
          }
        },
        "0d622ccc56264fac8fd7508dbdbe6e29": {
          "model_module": "@jupyter-widgets/controls",
          "model_module_version": "1.5.0",
          "model_name": "DescriptionStyleModel",
          "state": {
            "_model_module": "@jupyter-widgets/controls",
            "_model_module_version": "1.5.0",
            "_model_name": "DescriptionStyleModel",
            "_view_count": null,
            "_view_module": "@jupyter-widgets/base",
            "_view_module_version": "1.2.0",
            "_view_name": "StyleView",
            "description_width": ""
          }
        },
        "53e33aae3b97490c82aec7bbb0d6ebba": {
          "model_module": "@jupyter-widgets/controls",
          "model_module_version": "1.5.0",
          "model_name": "HTMLModel",
          "state": {
            "_dom_classes": [],
            "_model_module": "@jupyter-widgets/controls",
            "_model_module_version": "1.5.0",
            "_model_name": "HTMLModel",
            "_view_count": null,
            "_view_module": "@jupyter-widgets/controls",
            "_view_module_version": "1.5.0",
            "_view_name": "HTMLView",
            "description": "",
            "description_tooltip": null,
            "layout": "IPY_MODEL_041e22a9b5514e36bd4d1dac01d5d398",
            "placeholder": "​",
            "style": "IPY_MODEL_886d762f2a7c421382efb5502c6d42a1",
            "value": ""
          }
        },
        "716557ad09874dcb989d75f7c74424cd": {
          "model_module": "@jupyter-widgets/controls",
          "model_module_version": "1.5.0",
          "model_name": "ProgressStyleModel",
          "state": {
            "_model_module": "@jupyter-widgets/controls",
            "_model_module_version": "1.5.0",
            "_model_name": "ProgressStyleModel",
            "_view_count": null,
            "_view_module": "@jupyter-widgets/base",
            "_view_module_version": "1.2.0",
            "_view_name": "StyleView",
            "bar_color": null,
            "description_width": ""
          }
        },
        "72adef9b70dd48198b7322b6c5b113cf": {
          "model_module": "@jupyter-widgets/controls",
          "model_module_version": "1.5.0",
          "model_name": "HTMLModel",
          "state": {
            "_dom_classes": [],
            "_model_module": "@jupyter-widgets/controls",
            "_model_module_version": "1.5.0",
            "_model_name": "HTMLModel",
            "_view_count": null,
            "_view_module": "@jupyter-widgets/controls",
            "_view_module_version": "1.5.0",
            "_view_name": "HTMLView",
            "description": "",
            "description_tooltip": null,
            "layout": "IPY_MODEL_77d4c0ebaae045b58efc4f789c9a2360",
            "placeholder": "​",
            "style": "IPY_MODEL_0d622ccc56264fac8fd7508dbdbe6e29",
            "value": " 6/? [00:36&lt;00:00,  5.78s/it]"
          }
        },
        "77d4c0ebaae045b58efc4f789c9a2360": {
          "model_module": "@jupyter-widgets/base",
          "model_module_version": "1.2.0",
          "model_name": "LayoutModel",
          "state": {
            "_model_module": "@jupyter-widgets/base",
            "_model_module_version": "1.2.0",
            "_model_name": "LayoutModel",
            "_view_count": null,
            "_view_module": "@jupyter-widgets/base",
            "_view_module_version": "1.2.0",
            "_view_name": "LayoutView",
            "align_content": null,
            "align_items": null,
            "align_self": null,
            "border": null,
            "bottom": null,
            "display": null,
            "flex": null,
            "flex_flow": null,
            "grid_area": null,
            "grid_auto_columns": null,
            "grid_auto_flow": null,
            "grid_auto_rows": null,
            "grid_column": null,
            "grid_gap": null,
            "grid_row": null,
            "grid_template_areas": null,
            "grid_template_columns": null,
            "grid_template_rows": null,
            "height": null,
            "justify_content": null,
            "justify_items": null,
            "left": null,
            "margin": null,
            "max_height": null,
            "max_width": null,
            "min_height": null,
            "min_width": null,
            "object_fit": null,
            "object_position": null,
            "order": null,
            "overflow": null,
            "overflow_x": null,
            "overflow_y": null,
            "padding": null,
            "right": null,
            "top": null,
            "visibility": null,
            "width": null
          }
        },
        "886d762f2a7c421382efb5502c6d42a1": {
          "model_module": "@jupyter-widgets/controls",
          "model_module_version": "1.5.0",
          "model_name": "DescriptionStyleModel",
          "state": {
            "_model_module": "@jupyter-widgets/controls",
            "_model_module_version": "1.5.0",
            "_model_name": "DescriptionStyleModel",
            "_view_count": null,
            "_view_module": "@jupyter-widgets/base",
            "_view_module_version": "1.2.0",
            "_view_name": "StyleView",
            "description_width": ""
          }
        },
        "8a61d045ffd44ac58f3f13eb10044836": {
          "model_module": "@jupyter-widgets/base",
          "model_module_version": "1.2.0",
          "model_name": "LayoutModel",
          "state": {
            "_model_module": "@jupyter-widgets/base",
            "_model_module_version": "1.2.0",
            "_model_name": "LayoutModel",
            "_view_count": null,
            "_view_module": "@jupyter-widgets/base",
            "_view_module_version": "1.2.0",
            "_view_name": "LayoutView",
            "align_content": null,
            "align_items": null,
            "align_self": null,
            "border": null,
            "bottom": null,
            "display": null,
            "flex": null,
            "flex_flow": null,
            "grid_area": null,
            "grid_auto_columns": null,
            "grid_auto_flow": null,
            "grid_auto_rows": null,
            "grid_column": null,
            "grid_gap": null,
            "grid_row": null,
            "grid_template_areas": null,
            "grid_template_columns": null,
            "grid_template_rows": null,
            "height": null,
            "justify_content": null,
            "justify_items": null,
            "left": null,
            "margin": null,
            "max_height": null,
            "max_width": null,
            "min_height": null,
            "min_width": null,
            "object_fit": null,
            "object_position": null,
            "order": null,
            "overflow": null,
            "overflow_x": null,
            "overflow_y": null,
            "padding": null,
            "right": null,
            "top": null,
            "visibility": null,
            "width": null
          }
        },
        "ab91fd625bbd43afbf8c6398193a88d0": {
          "model_module": "@jupyter-widgets/base",
          "model_module_version": "1.2.0",
          "model_name": "LayoutModel",
          "state": {
            "_model_module": "@jupyter-widgets/base",
            "_model_module_version": "1.2.0",
            "_model_name": "LayoutModel",
            "_view_count": null,
            "_view_module": "@jupyter-widgets/base",
            "_view_module_version": "1.2.0",
            "_view_name": "LayoutView",
            "align_content": null,
            "align_items": null,
            "align_self": null,
            "border": null,
            "bottom": null,
            "display": null,
            "flex": null,
            "flex_flow": null,
            "grid_area": null,
            "grid_auto_columns": null,
            "grid_auto_flow": null,
            "grid_auto_rows": null,
            "grid_column": null,
            "grid_gap": null,
            "grid_row": null,
            "grid_template_areas": null,
            "grid_template_columns": null,
            "grid_template_rows": null,
            "height": null,
            "justify_content": null,
            "justify_items": null,
            "left": null,
            "margin": null,
            "max_height": null,
            "max_width": null,
            "min_height": null,
            "min_width": null,
            "object_fit": null,
            "object_position": null,
            "order": null,
            "overflow": null,
            "overflow_x": null,
            "overflow_y": null,
            "padding": null,
            "right": null,
            "top": null,
            "visibility": null,
            "width": "20px"
          }
        },
        "ad84e0e971d3455db2efe7dd0d1f803e": {
          "model_module": "@jupyter-widgets/controls",
          "model_module_version": "1.5.0",
          "model_name": "FloatProgressModel",
          "state": {
            "_dom_classes": [],
            "_model_module": "@jupyter-widgets/controls",
            "_model_module_version": "1.5.0",
            "_model_name": "FloatProgressModel",
            "_view_count": null,
            "_view_module": "@jupyter-widgets/controls",
            "_view_module_version": "1.5.0",
            "_view_name": "ProgressView",
            "bar_style": "success",
            "description": "",
            "description_tooltip": null,
            "layout": "IPY_MODEL_ab91fd625bbd43afbf8c6398193a88d0",
            "max": 1,
            "min": 0,
            "orientation": "horizontal",
            "style": "IPY_MODEL_716557ad09874dcb989d75f7c74424cd",
            "value": 1
          }
        },
        "efcf57067cf743d8b4ce059a61cbe02e": {
          "model_module": "@jupyter-widgets/controls",
          "model_module_version": "1.5.0",
          "model_name": "HBoxModel",
          "state": {
            "_dom_classes": [],
            "_model_module": "@jupyter-widgets/controls",
            "_model_module_version": "1.5.0",
            "_model_name": "HBoxModel",
            "_view_count": null,
            "_view_module": "@jupyter-widgets/controls",
            "_view_module_version": "1.5.0",
            "_view_name": "HBoxView",
            "box_style": "",
            "children": [
              "IPY_MODEL_53e33aae3b97490c82aec7bbb0d6ebba",
              "IPY_MODEL_ad84e0e971d3455db2efe7dd0d1f803e",
              "IPY_MODEL_72adef9b70dd48198b7322b6c5b113cf"
            ],
            "layout": "IPY_MODEL_8a61d045ffd44ac58f3f13eb10044836"
          }
        }
      }
    }
  },
  "nbformat": 4,
  "nbformat_minor": 0
}
